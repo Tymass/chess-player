{
  "cells": [
    {
      "cell_type": "markdown",
      "metadata": {
        "id": "view-in-github",
        "colab_type": "text"
      },
      "source": [
        "<a href=\"https://colab.research.google.com/github/Tymass/chess-player/blob/yolo-training/YOLO_chess_detection.ipynb\" target=\"_parent\"><img src=\"https://colab.research.google.com/assets/colab-badge.svg\" alt=\"Open In Colab\"/></a>"
      ]
    },
    {
      "cell_type": "markdown",
      "metadata": {
        "id": "NaqS_bYFB8_K"
      },
      "source": [
        "## Installations"
      ]
    },
    {
      "cell_type": "code",
      "execution_count": 1,
      "metadata": {
        "colab": {
          "base_uri": "https://localhost:8080/",
          "height": 1000
        },
        "collapsed": true,
        "id": "SyTxHcC1Bfen",
        "outputId": "9b6794ed-b53f-403e-f359-7fd174e80a3d"
      },
      "outputs": [
        {
          "output_type": "stream",
          "name": "stdout",
          "text": [
            "Requirement already satisfied: torch in /usr/local/lib/python3.10/dist-packages (2.3.0+cu121)\n",
            "Requirement already satisfied: torchvision in /usr/local/lib/python3.10/dist-packages (0.18.0+cu121)\n",
            "Requirement already satisfied: filelock in /usr/local/lib/python3.10/dist-packages (from torch) (3.14.0)\n",
            "Requirement already satisfied: typing-extensions>=4.8.0 in /usr/local/lib/python3.10/dist-packages (from torch) (4.12.0)\n",
            "Requirement already satisfied: sympy in /usr/local/lib/python3.10/dist-packages (from torch) (1.12.1)\n",
            "Requirement already satisfied: networkx in /usr/local/lib/python3.10/dist-packages (from torch) (3.3)\n",
            "Requirement already satisfied: jinja2 in /usr/local/lib/python3.10/dist-packages (from torch) (3.1.4)\n",
            "Requirement already satisfied: fsspec in /usr/local/lib/python3.10/dist-packages (from torch) (2023.6.0)\n",
            "Collecting nvidia-cuda-nvrtc-cu12==12.1.105 (from torch)\n",
            "  Using cached nvidia_cuda_nvrtc_cu12-12.1.105-py3-none-manylinux1_x86_64.whl (23.7 MB)\n",
            "Collecting nvidia-cuda-runtime-cu12==12.1.105 (from torch)\n",
            "  Using cached nvidia_cuda_runtime_cu12-12.1.105-py3-none-manylinux1_x86_64.whl (823 kB)\n",
            "Collecting nvidia-cuda-cupti-cu12==12.1.105 (from torch)\n",
            "  Using cached nvidia_cuda_cupti_cu12-12.1.105-py3-none-manylinux1_x86_64.whl (14.1 MB)\n",
            "Collecting nvidia-cudnn-cu12==8.9.2.26 (from torch)\n",
            "  Using cached nvidia_cudnn_cu12-8.9.2.26-py3-none-manylinux1_x86_64.whl (731.7 MB)\n",
            "Collecting nvidia-cublas-cu12==12.1.3.1 (from torch)\n",
            "  Using cached nvidia_cublas_cu12-12.1.3.1-py3-none-manylinux1_x86_64.whl (410.6 MB)\n",
            "Collecting nvidia-cufft-cu12==11.0.2.54 (from torch)\n",
            "  Using cached nvidia_cufft_cu12-11.0.2.54-py3-none-manylinux1_x86_64.whl (121.6 MB)\n",
            "Collecting nvidia-curand-cu12==10.3.2.106 (from torch)\n",
            "  Using cached nvidia_curand_cu12-10.3.2.106-py3-none-manylinux1_x86_64.whl (56.5 MB)\n",
            "Collecting nvidia-cusolver-cu12==11.4.5.107 (from torch)\n",
            "  Using cached nvidia_cusolver_cu12-11.4.5.107-py3-none-manylinux1_x86_64.whl (124.2 MB)\n",
            "Collecting nvidia-cusparse-cu12==12.1.0.106 (from torch)\n",
            "  Using cached nvidia_cusparse_cu12-12.1.0.106-py3-none-manylinux1_x86_64.whl (196.0 MB)\n",
            "Collecting nvidia-nccl-cu12==2.20.5 (from torch)\n",
            "  Using cached nvidia_nccl_cu12-2.20.5-py3-none-manylinux2014_x86_64.whl (176.2 MB)\n",
            "Collecting nvidia-nvtx-cu12==12.1.105 (from torch)\n",
            "  Using cached nvidia_nvtx_cu12-12.1.105-py3-none-manylinux1_x86_64.whl (99 kB)\n",
            "Requirement already satisfied: triton==2.3.0 in /usr/local/lib/python3.10/dist-packages (from torch) (2.3.0)\n",
            "Collecting nvidia-nvjitlink-cu12 (from nvidia-cusolver-cu12==11.4.5.107->torch)\n",
            "  Downloading nvidia_nvjitlink_cu12-12.5.40-py3-none-manylinux2014_x86_64.whl (21.3 MB)\n",
            "\u001b[2K     \u001b[90m━━━━━━━━━━━━━━━━━━━━━━━━━━━━━━━━━━━━━━━━\u001b[0m \u001b[32m21.3/21.3 MB\u001b[0m \u001b[31m65.4 MB/s\u001b[0m eta \u001b[36m0:00:00\u001b[0m\n",
            "\u001b[?25hRequirement already satisfied: numpy in /usr/local/lib/python3.10/dist-packages (from torchvision) (1.25.2)\n",
            "Requirement already satisfied: pillow!=8.3.*,>=5.3.0 in /usr/local/lib/python3.10/dist-packages (from torchvision) (9.4.0)\n",
            "Requirement already satisfied: MarkupSafe>=2.0 in /usr/local/lib/python3.10/dist-packages (from jinja2->torch) (2.1.5)\n",
            "Requirement already satisfied: mpmath<1.4.0,>=1.1.0 in /usr/local/lib/python3.10/dist-packages (from sympy->torch) (1.3.0)\n",
            "Installing collected packages: nvidia-nvtx-cu12, nvidia-nvjitlink-cu12, nvidia-nccl-cu12, nvidia-curand-cu12, nvidia-cufft-cu12, nvidia-cuda-runtime-cu12, nvidia-cuda-nvrtc-cu12, nvidia-cuda-cupti-cu12, nvidia-cublas-cu12, nvidia-cusparse-cu12, nvidia-cudnn-cu12, nvidia-cusolver-cu12\n",
            "Successfully installed nvidia-cublas-cu12-12.1.3.1 nvidia-cuda-cupti-cu12-12.1.105 nvidia-cuda-nvrtc-cu12-12.1.105 nvidia-cuda-runtime-cu12-12.1.105 nvidia-cudnn-cu12-8.9.2.26 nvidia-cufft-cu12-11.0.2.54 nvidia-curand-cu12-10.3.2.106 nvidia-cusolver-cu12-11.4.5.107 nvidia-cusparse-cu12-12.1.0.106 nvidia-nccl-cu12-2.20.5 nvidia-nvjitlink-cu12-12.5.40 nvidia-nvtx-cu12-12.1.105\n",
            "Collecting ultralytics\n",
            "  Downloading ultralytics-8.2.28-py3-none-any.whl (779 kB)\n",
            "\u001b[2K     \u001b[90m━━━━━━━━━━━━━━━━━━━━━━━━━━━━━━━━━━━━━━━━\u001b[0m \u001b[32m779.6/779.6 kB\u001b[0m \u001b[31m9.9 MB/s\u001b[0m eta \u001b[36m0:00:00\u001b[0m\n",
            "\u001b[?25hRequirement already satisfied: matplotlib>=3.3.0 in /usr/local/lib/python3.10/dist-packages (from ultralytics) (3.7.1)\n",
            "Requirement already satisfied: opencv-python>=4.6.0 in /usr/local/lib/python3.10/dist-packages (from ultralytics) (4.8.0.76)\n",
            "Requirement already satisfied: pillow>=7.1.2 in /usr/local/lib/python3.10/dist-packages (from ultralytics) (9.4.0)\n",
            "Requirement already satisfied: pyyaml>=5.3.1 in /usr/local/lib/python3.10/dist-packages (from ultralytics) (6.0.1)\n",
            "Requirement already satisfied: requests>=2.23.0 in /usr/local/lib/python3.10/dist-packages (from ultralytics) (2.31.0)\n",
            "Requirement already satisfied: scipy>=1.4.1 in /usr/local/lib/python3.10/dist-packages (from ultralytics) (1.11.4)\n",
            "Requirement already satisfied: torch>=1.8.0 in /usr/local/lib/python3.10/dist-packages (from ultralytics) (2.3.0+cu121)\n",
            "Requirement already satisfied: torchvision>=0.9.0 in /usr/local/lib/python3.10/dist-packages (from ultralytics) (0.18.0+cu121)\n",
            "Requirement already satisfied: tqdm>=4.64.0 in /usr/local/lib/python3.10/dist-packages (from ultralytics) (4.66.4)\n",
            "Requirement already satisfied: psutil in /usr/local/lib/python3.10/dist-packages (from ultralytics) (5.9.5)\n",
            "Requirement already satisfied: py-cpuinfo in /usr/local/lib/python3.10/dist-packages (from ultralytics) (9.0.0)\n",
            "Requirement already satisfied: pandas>=1.1.4 in /usr/local/lib/python3.10/dist-packages (from ultralytics) (2.0.3)\n",
            "Requirement already satisfied: seaborn>=0.11.0 in /usr/local/lib/python3.10/dist-packages (from ultralytics) (0.13.1)\n",
            "Collecting ultralytics-thop>=0.2.5 (from ultralytics)\n",
            "  Downloading ultralytics_thop-0.2.7-py3-none-any.whl (25 kB)\n",
            "Requirement already satisfied: contourpy>=1.0.1 in /usr/local/lib/python3.10/dist-packages (from matplotlib>=3.3.0->ultralytics) (1.2.1)\n",
            "Requirement already satisfied: cycler>=0.10 in /usr/local/lib/python3.10/dist-packages (from matplotlib>=3.3.0->ultralytics) (0.12.1)\n",
            "Requirement already satisfied: fonttools>=4.22.0 in /usr/local/lib/python3.10/dist-packages (from matplotlib>=3.3.0->ultralytics) (4.52.4)\n",
            "Requirement already satisfied: kiwisolver>=1.0.1 in /usr/local/lib/python3.10/dist-packages (from matplotlib>=3.3.0->ultralytics) (1.4.5)\n",
            "Requirement already satisfied: numpy>=1.20 in /usr/local/lib/python3.10/dist-packages (from matplotlib>=3.3.0->ultralytics) (1.25.2)\n",
            "Requirement already satisfied: packaging>=20.0 in /usr/local/lib/python3.10/dist-packages (from matplotlib>=3.3.0->ultralytics) (24.0)\n",
            "Requirement already satisfied: pyparsing>=2.3.1 in /usr/local/lib/python3.10/dist-packages (from matplotlib>=3.3.0->ultralytics) (3.1.2)\n",
            "Requirement already satisfied: python-dateutil>=2.7 in /usr/local/lib/python3.10/dist-packages (from matplotlib>=3.3.0->ultralytics) (2.8.2)\n",
            "Requirement already satisfied: pytz>=2020.1 in /usr/local/lib/python3.10/dist-packages (from pandas>=1.1.4->ultralytics) (2023.4)\n",
            "Requirement already satisfied: tzdata>=2022.1 in /usr/local/lib/python3.10/dist-packages (from pandas>=1.1.4->ultralytics) (2024.1)\n",
            "Requirement already satisfied: charset-normalizer<4,>=2 in /usr/local/lib/python3.10/dist-packages (from requests>=2.23.0->ultralytics) (3.3.2)\n",
            "Requirement already satisfied: idna<4,>=2.5 in /usr/local/lib/python3.10/dist-packages (from requests>=2.23.0->ultralytics) (3.7)\n",
            "Requirement already satisfied: urllib3<3,>=1.21.1 in /usr/local/lib/python3.10/dist-packages (from requests>=2.23.0->ultralytics) (2.0.7)\n",
            "Requirement already satisfied: certifi>=2017.4.17 in /usr/local/lib/python3.10/dist-packages (from requests>=2.23.0->ultralytics) (2024.2.2)\n",
            "Requirement already satisfied: filelock in /usr/local/lib/python3.10/dist-packages (from torch>=1.8.0->ultralytics) (3.14.0)\n",
            "Requirement already satisfied: typing-extensions>=4.8.0 in /usr/local/lib/python3.10/dist-packages (from torch>=1.8.0->ultralytics) (4.12.0)\n",
            "Requirement already satisfied: sympy in /usr/local/lib/python3.10/dist-packages (from torch>=1.8.0->ultralytics) (1.12.1)\n",
            "Requirement already satisfied: networkx in /usr/local/lib/python3.10/dist-packages (from torch>=1.8.0->ultralytics) (3.3)\n",
            "Requirement already satisfied: jinja2 in /usr/local/lib/python3.10/dist-packages (from torch>=1.8.0->ultralytics) (3.1.4)\n",
            "Requirement already satisfied: fsspec in /usr/local/lib/python3.10/dist-packages (from torch>=1.8.0->ultralytics) (2023.6.0)\n",
            "Requirement already satisfied: nvidia-cuda-nvrtc-cu12==12.1.105 in /usr/local/lib/python3.10/dist-packages (from torch>=1.8.0->ultralytics) (12.1.105)\n",
            "Requirement already satisfied: nvidia-cuda-runtime-cu12==12.1.105 in /usr/local/lib/python3.10/dist-packages (from torch>=1.8.0->ultralytics) (12.1.105)\n",
            "Requirement already satisfied: nvidia-cuda-cupti-cu12==12.1.105 in /usr/local/lib/python3.10/dist-packages (from torch>=1.8.0->ultralytics) (12.1.105)\n",
            "Requirement already satisfied: nvidia-cudnn-cu12==8.9.2.26 in /usr/local/lib/python3.10/dist-packages (from torch>=1.8.0->ultralytics) (8.9.2.26)\n",
            "Requirement already satisfied: nvidia-cublas-cu12==12.1.3.1 in /usr/local/lib/python3.10/dist-packages (from torch>=1.8.0->ultralytics) (12.1.3.1)\n",
            "Requirement already satisfied: nvidia-cufft-cu12==11.0.2.54 in /usr/local/lib/python3.10/dist-packages (from torch>=1.8.0->ultralytics) (11.0.2.54)\n",
            "Requirement already satisfied: nvidia-curand-cu12==10.3.2.106 in /usr/local/lib/python3.10/dist-packages (from torch>=1.8.0->ultralytics) (10.3.2.106)\n",
            "Requirement already satisfied: nvidia-cusolver-cu12==11.4.5.107 in /usr/local/lib/python3.10/dist-packages (from torch>=1.8.0->ultralytics) (11.4.5.107)\n",
            "Requirement already satisfied: nvidia-cusparse-cu12==12.1.0.106 in /usr/local/lib/python3.10/dist-packages (from torch>=1.8.0->ultralytics) (12.1.0.106)\n",
            "Requirement already satisfied: nvidia-nccl-cu12==2.20.5 in /usr/local/lib/python3.10/dist-packages (from torch>=1.8.0->ultralytics) (2.20.5)\n",
            "Requirement already satisfied: nvidia-nvtx-cu12==12.1.105 in /usr/local/lib/python3.10/dist-packages (from torch>=1.8.0->ultralytics) (12.1.105)\n",
            "Requirement already satisfied: triton==2.3.0 in /usr/local/lib/python3.10/dist-packages (from torch>=1.8.0->ultralytics) (2.3.0)\n",
            "Requirement already satisfied: nvidia-nvjitlink-cu12 in /usr/local/lib/python3.10/dist-packages (from nvidia-cusolver-cu12==11.4.5.107->torch>=1.8.0->ultralytics) (12.5.40)\n",
            "Requirement already satisfied: six>=1.5 in /usr/local/lib/python3.10/dist-packages (from python-dateutil>=2.7->matplotlib>=3.3.0->ultralytics) (1.16.0)\n",
            "Requirement already satisfied: MarkupSafe>=2.0 in /usr/local/lib/python3.10/dist-packages (from jinja2->torch>=1.8.0->ultralytics) (2.1.5)\n",
            "Requirement already satisfied: mpmath<1.4.0,>=1.1.0 in /usr/local/lib/python3.10/dist-packages (from sympy->torch>=1.8.0->ultralytics) (1.3.0)\n",
            "Installing collected packages: ultralytics-thop, ultralytics\n",
            "Successfully installed ultralytics-8.2.28 ultralytics-thop-0.2.7\n",
            "Requirement already satisfied: gdown in /usr/local/lib/python3.10/dist-packages (5.1.0)\n",
            "Collecting gdown\n",
            "  Downloading gdown-5.2.0-py3-none-any.whl (18 kB)\n",
            "Requirement already satisfied: beautifulsoup4 in /usr/local/lib/python3.10/dist-packages (from gdown) (4.12.3)\n",
            "Requirement already satisfied: filelock in /usr/local/lib/python3.10/dist-packages (from gdown) (3.14.0)\n",
            "Requirement already satisfied: requests[socks] in /usr/local/lib/python3.10/dist-packages (from gdown) (2.31.0)\n",
            "Requirement already satisfied: tqdm in /usr/local/lib/python3.10/dist-packages (from gdown) (4.66.4)\n",
            "Requirement already satisfied: soupsieve>1.2 in /usr/local/lib/python3.10/dist-packages (from beautifulsoup4->gdown) (2.5)\n",
            "Requirement already satisfied: charset-normalizer<4,>=2 in /usr/local/lib/python3.10/dist-packages (from requests[socks]->gdown) (3.3.2)\n",
            "Requirement already satisfied: idna<4,>=2.5 in /usr/local/lib/python3.10/dist-packages (from requests[socks]->gdown) (3.7)\n",
            "Requirement already satisfied: urllib3<3,>=1.21.1 in /usr/local/lib/python3.10/dist-packages (from requests[socks]->gdown) (2.0.7)\n",
            "Requirement already satisfied: certifi>=2017.4.17 in /usr/local/lib/python3.10/dist-packages (from requests[socks]->gdown) (2024.2.2)\n",
            "Requirement already satisfied: PySocks!=1.5.7,>=1.5.6 in /usr/local/lib/python3.10/dist-packages (from requests[socks]->gdown) (1.7.1)\n",
            "Installing collected packages: gdown\n",
            "  Attempting uninstall: gdown\n",
            "    Found existing installation: gdown 5.1.0\n",
            "    Uninstalling gdown-5.1.0:\n",
            "      Successfully uninstalled gdown-5.1.0\n",
            "Successfully installed gdown-5.2.0\n",
            "Collecting roboflow\n",
            "  Downloading roboflow-1.1.30-py3-none-any.whl (75 kB)\n",
            "\u001b[2K     \u001b[90m━━━━━━━━━━━━━━━━━━━━━━━━━━━━━━━━━━━━━━━━\u001b[0m \u001b[32m75.5/75.5 kB\u001b[0m \u001b[31m3.1 MB/s\u001b[0m eta \u001b[36m0:00:00\u001b[0m\n",
            "\u001b[?25hCollecting certifi==2023.7.22 (from roboflow)\n",
            "  Downloading certifi-2023.7.22-py3-none-any.whl (158 kB)\n",
            "\u001b[2K     \u001b[90m━━━━━━━━━━━━━━━━━━━━━━━━━━━━━━━━━━━━━━━━\u001b[0m \u001b[32m158.3/158.3 kB\u001b[0m \u001b[31m8.9 MB/s\u001b[0m eta \u001b[36m0:00:00\u001b[0m\n",
            "\u001b[?25hCollecting chardet==4.0.0 (from roboflow)\n",
            "  Downloading chardet-4.0.0-py2.py3-none-any.whl (178 kB)\n",
            "\u001b[2K     \u001b[90m━━━━━━━━━━━━━━━━━━━━━━━━━━━━━━━━━━━━━━━━\u001b[0m \u001b[32m178.7/178.7 kB\u001b[0m \u001b[31m11.0 MB/s\u001b[0m eta \u001b[36m0:00:00\u001b[0m\n",
            "\u001b[?25hCollecting cycler==0.10.0 (from roboflow)\n",
            "  Downloading cycler-0.10.0-py2.py3-none-any.whl (6.5 kB)\n",
            "Collecting idna==2.10 (from roboflow)\n",
            "  Downloading idna-2.10-py2.py3-none-any.whl (58 kB)\n",
            "\u001b[2K     \u001b[90m━━━━━━━━━━━━━━━━━━━━━━━━━━━━━━━━━━━━━━━━\u001b[0m \u001b[32m58.8/58.8 kB\u001b[0m \u001b[31m5.5 MB/s\u001b[0m eta \u001b[36m0:00:00\u001b[0m\n",
            "\u001b[?25hRequirement already satisfied: kiwisolver>=1.3.1 in /usr/local/lib/python3.10/dist-packages (from roboflow) (1.4.5)\n",
            "Requirement already satisfied: matplotlib in /usr/local/lib/python3.10/dist-packages (from roboflow) (3.7.1)\n",
            "Requirement already satisfied: numpy>=1.18.5 in /usr/local/lib/python3.10/dist-packages (from roboflow) (1.25.2)\n",
            "Collecting opencv-python-headless==4.8.0.74 (from roboflow)\n",
            "  Downloading opencv_python_headless-4.8.0.74-cp37-abi3-manylinux_2_17_x86_64.manylinux2014_x86_64.whl (49.1 MB)\n",
            "\u001b[2K     \u001b[90m━━━━━━━━━━━━━━━━━━━━━━━━━━━━━━━━━━━━━━━━\u001b[0m \u001b[32m49.1/49.1 MB\u001b[0m \u001b[31m12.0 MB/s\u001b[0m eta \u001b[36m0:00:00\u001b[0m\n",
            "\u001b[?25hRequirement already satisfied: Pillow>=7.1.2 in /usr/local/lib/python3.10/dist-packages (from roboflow) (9.4.0)\n",
            "Requirement already satisfied: python-dateutil in /usr/local/lib/python3.10/dist-packages (from roboflow) (2.8.2)\n",
            "Collecting python-dotenv (from roboflow)\n",
            "  Downloading python_dotenv-1.0.1-py3-none-any.whl (19 kB)\n",
            "Requirement already satisfied: requests in /usr/local/lib/python3.10/dist-packages (from roboflow) (2.31.0)\n",
            "Requirement already satisfied: six in /usr/local/lib/python3.10/dist-packages (from roboflow) (1.16.0)\n",
            "Requirement already satisfied: urllib3>=1.26.6 in /usr/local/lib/python3.10/dist-packages (from roboflow) (2.0.7)\n",
            "Requirement already satisfied: tqdm>=4.41.0 in /usr/local/lib/python3.10/dist-packages (from roboflow) (4.66.4)\n",
            "Requirement already satisfied: PyYAML>=5.3.1 in /usr/local/lib/python3.10/dist-packages (from roboflow) (6.0.1)\n",
            "Collecting requests-toolbelt (from roboflow)\n",
            "  Downloading requests_toolbelt-1.0.0-py2.py3-none-any.whl (54 kB)\n",
            "\u001b[2K     \u001b[90m━━━━━━━━━━━━━━━━━━━━━━━━━━━━━━━━━━━━━━━━\u001b[0m \u001b[32m54.5/54.5 kB\u001b[0m \u001b[31m8.3 MB/s\u001b[0m eta \u001b[36m0:00:00\u001b[0m\n",
            "\u001b[?25hCollecting python-magic (from roboflow)\n",
            "  Downloading python_magic-0.4.27-py2.py3-none-any.whl (13 kB)\n",
            "Requirement already satisfied: contourpy>=1.0.1 in /usr/local/lib/python3.10/dist-packages (from matplotlib->roboflow) (1.2.1)\n",
            "Requirement already satisfied: fonttools>=4.22.0 in /usr/local/lib/python3.10/dist-packages (from matplotlib->roboflow) (4.52.4)\n",
            "Requirement already satisfied: packaging>=20.0 in /usr/local/lib/python3.10/dist-packages (from matplotlib->roboflow) (24.0)\n",
            "Requirement already satisfied: pyparsing>=2.3.1 in /usr/local/lib/python3.10/dist-packages (from matplotlib->roboflow) (3.1.2)\n",
            "Requirement already satisfied: charset-normalizer<4,>=2 in /usr/local/lib/python3.10/dist-packages (from requests->roboflow) (3.3.2)\n",
            "\u001b[33mWARNING: The candidate selected for download or install is a yanked version: 'opencv-python-headless' candidate (version 4.8.0.74 at https://files.pythonhosted.org/packages/76/02/f128517f3ade4bb5f71e2afd8461dba70e3f466ce745fa1fd1fade9ad1b7/opencv_python_headless-4.8.0.74-cp37-abi3-manylinux_2_17_x86_64.manylinux2014_x86_64.whl (from https://pypi.org/simple/opencv-python-headless/) (requires-python:>=3.6))\n",
            "Reason for being yanked: deprecated, use 4.8.0.76\u001b[0m\u001b[33m\n",
            "\u001b[0mInstalling collected packages: python-magic, python-dotenv, opencv-python-headless, idna, cycler, chardet, certifi, requests-toolbelt, roboflow\n",
            "  Attempting uninstall: opencv-python-headless\n",
            "    Found existing installation: opencv-python-headless 4.9.0.80\n",
            "    Uninstalling opencv-python-headless-4.9.0.80:\n",
            "      Successfully uninstalled opencv-python-headless-4.9.0.80\n",
            "  Attempting uninstall: idna\n",
            "    Found existing installation: idna 3.7\n",
            "    Uninstalling idna-3.7:\n",
            "      Successfully uninstalled idna-3.7\n",
            "  Attempting uninstall: cycler\n",
            "    Found existing installation: cycler 0.12.1\n",
            "    Uninstalling cycler-0.12.1:\n",
            "      Successfully uninstalled cycler-0.12.1\n",
            "  Attempting uninstall: chardet\n",
            "    Found existing installation: chardet 5.2.0\n",
            "    Uninstalling chardet-5.2.0:\n",
            "      Successfully uninstalled chardet-5.2.0\n",
            "  Attempting uninstall: certifi\n",
            "    Found existing installation: certifi 2024.2.2\n",
            "    Uninstalling certifi-2024.2.2:\n",
            "      Successfully uninstalled certifi-2024.2.2\n",
            "Successfully installed certifi-2023.7.22 chardet-4.0.0 cycler-0.10.0 idna-2.10 opencv-python-headless-4.8.0.74 python-dotenv-1.0.1 python-magic-0.4.27 requests-toolbelt-1.0.0 roboflow-1.1.30\n"
          ]
        },
        {
          "output_type": "display_data",
          "data": {
            "application/vnd.colab-display-data+json": {
              "pip_warning": {
                "packages": [
                  "certifi",
                  "cycler"
                ]
              },
              "id": "78ae1235eda540a8aaecc1f4e9521dd7"
            }
          },
          "metadata": {}
        },
        {
          "output_type": "stream",
          "name": "stdout",
          "text": [
            "Requirement already satisfied: pyyaml in /usr/local/lib/python3.10/dist-packages (6.0.1)\n"
          ]
        }
      ],
      "source": [
        "!pip install torch torchvision\n",
        "!pip install ultralytics\n",
        "!pip install -U --no-cache-dir gdown --pre\n",
        "!pip install roboflow\n",
        "!pip install pyyaml"
      ]
    },
    {
      "cell_type": "markdown",
      "metadata": {
        "id": "VOuE_y02CRmj"
      },
      "source": [
        "## Imports"
      ]
    },
    {
      "cell_type": "code",
      "execution_count": null,
      "metadata": {
        "id": "Xu3qe-6LCTE4"
      },
      "outputs": [],
      "source": [
        "from ultralytics import YOLO\n",
        "import gdown\n",
        "import os\n",
        "import torch\n",
        "import glob\n",
        "from roboflow import Roboflow\n",
        "import shutil\n",
        "import yaml\n",
        "import time\n",
        "from google.colab import userdata\n",
        "import locale\n",
        "locale.getpreferredencoding = lambda: \"UTF-8\""
      ]
    },
    {
      "cell_type": "markdown",
      "metadata": {
        "id": "sCbXMI8hMnhz"
      },
      "source": [
        "## Functions definition"
      ]
    },
    {
      "cell_type": "markdown",
      "metadata": {
        "id": "_8k5Xd4iCFF-"
      },
      "source": [
        "## Constants"
      ]
    },
    {
      "cell_type": "code",
      "execution_count": null,
      "metadata": {
        "id": "gMOv8nc_KKCt"
      },
      "outputs": [],
      "source": [
        "# Configuration parameters for machine learning model training.\n",
        "\n",
        "EPOCHS = 600\n",
        "# Specifies the total number of passes through the entire training dataset.\n",
        "# A high number like 1000 indicates intensive training, aiming for deep model refinement, but requires monitoring to avoid overfitting.\n",
        "\n",
        "PATIENCE = 20\n",
        "# Determines the number of epochs with no improvement on a chosen metric before training is stopped early.\n",
        "# This is a strategy to prevent overfitting by halting the training process if the model ceases to learn further.\n",
        "\n",
        "BATCH_TRAINING = -1\n",
        "# Specify batch size during YOLO training. -1 here means automatic way\n",
        "\n",
        "LR0 = 0.0001\n",
        "# The initial learning rate sets the step size at the start of training for adjusting the model weights.\n",
        "# An appropriate value (neither too large nor too small) is crucial for effective training dynamics.\n",
        "\n",
        "LRF = 0.2\n",
        "# Final learning rate factor, used to adjust the learning rate over time.\n",
        "# This parameter is part of a learning rate schedule that gradually reduces the learning rate, aiding in model convergence.\n",
        "\n",
        "IMGSZ = 640\n",
        "# The uniform size (height and width) to which all input images are resized before being fed into the model.\n",
        "# Ensuring a consistent image size is essential for models to process batches of data efficiently.\n",
        "\n",
        "CONF_THRESHOLD = 0.5\n",
        "# Confidence threshold for predictions. Only predictions with a confidence score higher than this threshold will be considered.\n",
        "# This helps in reducing false positives by filtering out predictions with low confidence.\n",
        "\n",
        "IOU_THRESHOLD = 0.6\n",
        "# Intersection Over Union (IOU) threshold for Non-Maximum Suppression (NMS).\n",
        "# Determines how much overlap between bounding boxes is allowed. A higher threshold can reduce duplicate detections for the same object.\n",
        "\n",
        "# Setting up device\n",
        "DEVICE = torch.device('cuda:0' if torch.cuda.is_available() else 'cpu')\n",
        "#os.environ[\"CUDA_VISIBLE_DEVICES\"] = \"0\"\n",
        "# Set the current working directory as the base directory.\n",
        "#BASE_DIR = os.getcwd()"
      ]
    },
    {
      "cell_type": "markdown",
      "metadata": {
        "id": "-jrG_sZVKZKE"
      },
      "source": [
        "## Datasets downloads"
      ]
    },
    {
      "cell_type": "code",
      "source": [
        "# In case we need to remove dataset folder\n",
        "!rm -rf /content/datasets"
      ],
      "metadata": {
        "id": "3ucrxXOhGSxF"
      },
      "execution_count": null,
      "outputs": []
    },
    {
      "cell_type": "markdown",
      "source": [
        "We use [1](https://universe.roboflow.com/joseph-nelson/chess-pieces-new/dataset/24) dataset as baseline then fine tune model on our dataset [2](https://app.roboflow.com/tymek-byrwa-1p3fh/chesspiecesdetection-y9ljv/6).\n",
        "\n",
        "Dont forget to get your own Roboflow API key.\n"
      ],
      "metadata": {
        "id": "YiGFQLtqWqhM"
      }
    },
    {
      "cell_type": "code",
      "execution_count": null,
      "metadata": {
        "colab": {
          "base_uri": "https://localhost:8080/"
        },
        "id": "CXPvU-RMCEf3",
        "outputId": "693a6a38-5ecd-48aa-cbae-fe564019fdc8",
        "collapsed": true
      },
      "outputs": [
        {
          "output_type": "stream",
          "name": "stdout",
          "text": [
            "loading Roboflow workspace...\n",
            "loading Roboflow project...\n",
            "Dependency ultralytics==8.0.196 is required but found version=8.2.28, to fix: `pip install ultralytics==8.0.196`\n"
          ]
        },
        {
          "output_type": "stream",
          "name": "stderr",
          "text": [
            "Downloading Dataset Version Zip in chessPiecesDetection-6 to yolov8:: 100%|██████████| 22052/22052 [00:01<00:00, 21286.44it/s]"
          ]
        },
        {
          "output_type": "stream",
          "name": "stdout",
          "text": [
            "\n"
          ]
        },
        {
          "output_type": "stream",
          "name": "stderr",
          "text": [
            "\n",
            "Extracting Dataset Version Zip to chessPiecesDetection-6 in yolov8:: 100%|██████████| 672/672 [00:00<00:00, 6383.97it/s]\n"
          ]
        }
      ],
      "source": [
        "# Define the mode for dataset selection. Possible values: 'yolov9' or 'yolov8'.\n",
        "mode = 'yolov8'\n",
        "classes_nb = 12\n",
        "API_key = userdata.get('API_key')\n",
        "\n",
        "# We need to specify what dataset we use\n",
        "fine_tunning = True\n",
        "\n",
        "if fine_tunning:\n",
        "  project_version = 6\n",
        "\n",
        "  if mode == 'yolov9':\n",
        "    rf = Roboflow(api_key=API_key)\n",
        "    project = rf.workspace(\"tymek-byrwa-1p3fh\").project(\"chesspiecesdetection-y9ljv\")\n",
        "    version = project.version(project_version)\n",
        "    dataset = version.download(\"yolov9\")\n",
        "  elif mode == 'yolov8':\n",
        "    rf = Roboflow(api_key=API_key)\n",
        "    project = rf.workspace(\"tymek-byrwa-1p3fh\").project(\"chesspiecesdetection-y9ljv\")\n",
        "    version = project.version(project_version)\n",
        "    dataset = version.download(\"yolov8\")\n",
        "else:\n",
        "  project_version = 24\n",
        "\n",
        "  if mode == 'yolov8':\n",
        "    rf = Roboflow(api_key=API_key)\n",
        "    project = rf.workspace(\"joseph-nelson\").project(\"chess-pieces-new\")\n",
        "    version = project.version(project_version)\n",
        "    dataset = version.download(\"yolov8\")\n",
        "  elif mode == 'yolov8':\n",
        "    rf = Roboflow(api_key=API_key)\n",
        "    project = rf.workspace(\"joseph-nelson\").project(\"chess-pieces-new\")\n",
        "    version = project.version(project_version)\n",
        "    dataset = version.download(\"yolov9\")"
      ]
    },
    {
      "cell_type": "code",
      "execution_count": null,
      "metadata": {
        "id": "oGw4j3YBK_b7"
      },
      "outputs": [],
      "source": [
        "def update_yaml(file_path):\n",
        "    with open(file_path, 'r') as file:\n",
        "        data = yaml.safe_load(file)\n",
        "\n",
        "    # Modify the specific fields\n",
        "    data['train'] = '../train/images'\n",
        "    data['val'] = '../valid/images'\n",
        "\n",
        "    with open(file_path, 'w') as file:\n",
        "        yaml.safe_dump(data, file)"
      ]
    },
    {
      "cell_type": "code",
      "execution_count": null,
      "metadata": {
        "id": "MsMgtDIB2cLa",
        "collapsed": true
      },
      "outputs": [],
      "source": [
        "# We move downloaded dataset to 'dataset' floder and update yaml file\n",
        "\n",
        "os.mkdir('/content/datasets')\n",
        "source_dataset_path = os.getcwd() + '/' + dataset.name.replace(' ', '-') + '-' + project_version\n",
        "source_dataset_path_copy = source_dataset_path.split('/')[1:]\n",
        "\n",
        "source_dataset_path_copy.insert(-1, 'datasets')\n",
        "\n",
        "\n",
        "dest_dataset_path = '/' + '/'.join(source_dataset_path_copy)\n",
        "config_path = dest_dataset_path + '/data.yaml'\n",
        "test_imgs_path = dest_dataset_path + '/test/images'\n",
        "\n",
        "shutil.move(source_dataset_path, dest_dataset_path)\n",
        "\n",
        "update_yaml(config_path)"
      ]
    },
    {
      "cell_type": "markdown",
      "metadata": {
        "id": "Nn6CIWMNKEBf"
      },
      "source": [
        "## Initial train"
      ]
    },
    {
      "cell_type": "code",
      "execution_count": null,
      "metadata": {
        "colab": {
          "base_uri": "https://localhost:8080/"
        },
        "id": "66XrhBLEIURw",
        "outputId": "44718d39-616b-4c70-b21a-984f7e449052",
        "collapsed": true
      },
      "outputs": [
        {
          "output_type": "stream",
          "name": "stdout",
          "text": [
            "\u001b[34m\u001b[1mengine/trainer: \u001b[0mtask=detect, mode=train, model=best.pt, data=/content/datasets/chessPiecesDetection-6/data.yaml, epochs=600, time=None, patience=20, batch=-1, imgsz=640, save=True, save_period=-1, cache=False, device=cuda:0, workers=8, project=None, name=train3, exist_ok=False, pretrained=True, optimizer=auto, verbose=True, seed=0, deterministic=True, single_cls=False, rect=False, cos_lr=False, close_mosaic=10, resume=False, amp=True, fraction=1.0, profile=False, freeze=None, multi_scale=False, overlap_mask=True, mask_ratio=4, dropout=0.0, val=True, split=val, save_json=False, save_hybrid=False, conf=None, iou=0.7, max_det=300, half=False, dnn=False, plots=True, source=None, vid_stride=1, stream_buffer=False, visualize=False, augment=False, agnostic_nms=False, classes=None, retina_masks=False, embed=None, show=False, save_frames=False, save_txt=False, save_conf=False, save_crop=False, show_labels=True, show_conf=True, show_boxes=True, line_width=None, format=torchscript, keras=False, optimize=False, int8=False, dynamic=False, simplify=False, opset=None, workspace=4, nms=False, lr0=0.0001, lrf=0.2, momentum=0.937, weight_decay=0.0005, warmup_epochs=3.0, warmup_momentum=0.8, warmup_bias_lr=0.1, box=7.5, cls=0.5, dfl=1.5, pose=12.0, kobj=1.0, label_smoothing=0.0, nbs=64, hsv_h=0.015, hsv_s=0.7, hsv_v=0.4, degrees=0.0, translate=0.1, scale=0.5, shear=0.0, perspective=0.0, flipud=0.0, fliplr=0.5, bgr=0.0, mosaic=1.0, mixup=0.0, copy_paste=0.0, auto_augment=randaugment, erasing=0.4, crop_fraction=1.0, cfg=None, tracker=botsort.yaml, save_dir=runs/detect/train3\n",
            "Overriding model.yaml nc=13 with nc=12\n",
            "\n",
            "                   from  n    params  module                                       arguments                     \n",
            "  0                  -1  1      1392  ultralytics.nn.modules.conv.Conv             [3, 48, 3, 2]                 \n",
            "  1                  -1  1     41664  ultralytics.nn.modules.conv.Conv             [48, 96, 3, 2]                \n",
            "  2                  -1  2    111360  ultralytics.nn.modules.block.C2f             [96, 96, 2, True]             \n",
            "  3                  -1  1    166272  ultralytics.nn.modules.conv.Conv             [96, 192, 3, 2]               \n",
            "  4                  -1  4    813312  ultralytics.nn.modules.block.C2f             [192, 192, 4, True]           \n",
            "  5                  -1  1    664320  ultralytics.nn.modules.conv.Conv             [192, 384, 3, 2]              \n",
            "  6                  -1  4   3248640  ultralytics.nn.modules.block.C2f             [384, 384, 4, True]           \n",
            "  7                  -1  1   1991808  ultralytics.nn.modules.conv.Conv             [384, 576, 3, 2]              \n",
            "  8                  -1  2   3985920  ultralytics.nn.modules.block.C2f             [576, 576, 2, True]           \n",
            "  9                  -1  1    831168  ultralytics.nn.modules.block.SPPF            [576, 576, 5]                 \n",
            " 10                  -1  1         0  torch.nn.modules.upsampling.Upsample         [None, 2, 'nearest']          \n",
            " 11             [-1, 6]  1         0  ultralytics.nn.modules.conv.Concat           [1]                           \n",
            " 12                  -1  2   1993728  ultralytics.nn.modules.block.C2f             [960, 384, 2]                 \n",
            " 13                  -1  1         0  torch.nn.modules.upsampling.Upsample         [None, 2, 'nearest']          \n",
            " 14             [-1, 4]  1         0  ultralytics.nn.modules.conv.Concat           [1]                           \n",
            " 15                  -1  2    517632  ultralytics.nn.modules.block.C2f             [576, 192, 2]                 \n",
            " 16                  -1  1    332160  ultralytics.nn.modules.conv.Conv             [192, 192, 3, 2]              \n",
            " 17            [-1, 12]  1         0  ultralytics.nn.modules.conv.Concat           [1]                           \n",
            " 18                  -1  2   1846272  ultralytics.nn.modules.block.C2f             [576, 384, 2]                 \n",
            " 19                  -1  1   1327872  ultralytics.nn.modules.conv.Conv             [384, 384, 3, 2]              \n",
            " 20             [-1, 9]  1         0  ultralytics.nn.modules.conv.Concat           [1]                           \n",
            " 21                  -1  2   4207104  ultralytics.nn.modules.block.C2f             [960, 576, 2]                 \n",
            " 22        [15, 18, 21]  1   3782644  ultralytics.nn.modules.head.Detect           [12, [192, 384, 576]]         \n",
            "Model summary: 295 layers, 25863268 parameters, 25863252 gradients, 79.1 GFLOPs\n",
            "\n",
            "Transferred 469/475 items from pretrained weights\n",
            "\u001b[34m\u001b[1mTensorBoard: \u001b[0mStart with 'tensorboard --logdir runs/detect/train3', view at http://localhost:6006/\n",
            "Freezing layer 'model.22.dfl.conv.weight'\n",
            "\u001b[34m\u001b[1mAMP: \u001b[0mrunning Automatic Mixed Precision (AMP) checks with YOLOv8n...\n",
            "\u001b[34m\u001b[1mAMP: \u001b[0mchecks passed ✅\n",
            "\u001b[34m\u001b[1mAutoBatch: \u001b[0mComputing optimal batch size for imgsz=640\n",
            "\u001b[34m\u001b[1mAutoBatch: \u001b[0mCUDA:0 (Tesla T4) 14.75G total, 3.72G reserved, 0.95G allocated, 10.08G free\n",
            "      Params      GFLOPs  GPU_mem (GB)  forward (ms) backward (ms)                   input                  output\n",
            "    25863268        79.1         4.083         33.87          38.1        (1, 3, 640, 640)                    list\n",
            "    25863268       158.2         1.042         28.11         30.34        (2, 3, 640, 640)                    list\n",
            "    25863268       316.4         1.833         39.87         45.66        (4, 3, 640, 640)                    list\n",
            "    25863268       632.8         3.311         78.36          85.2        (8, 3, 640, 640)                    list\n",
            "    25863268        1266         6.352         160.2         169.9       (16, 3, 640, 640)                    list\n",
            "\u001b[34m\u001b[1mAutoBatch: \u001b[0mUsing batch-size 16 for CUDA:0 10.54G/14.75G (71%) ✅\n"
          ]
        },
        {
          "output_type": "stream",
          "name": "stderr",
          "text": [
            "\u001b[34m\u001b[1mtrain: \u001b[0mScanning /content/datasets/chessPiecesDetection-6/train/labels... 270 images, 12 backgrounds, 0 corrupt: 100%|██████████| 270/270 [00:00<00:00, 1923.95it/s]"
          ]
        },
        {
          "output_type": "stream",
          "name": "stdout",
          "text": [
            "\u001b[34m\u001b[1mtrain: \u001b[0mNew cache created: /content/datasets/chessPiecesDetection-6/train/labels.cache\n",
            "\u001b[34m\u001b[1malbumentations: \u001b[0mBlur(p=0.01, blur_limit=(3, 7)), MedianBlur(p=0.01, blur_limit=(3, 7)), ToGray(p=0.01), CLAHE(p=0.01, clip_limit=(1, 4.0), tile_grid_size=(8, 8))\n"
          ]
        },
        {
          "output_type": "stream",
          "name": "stderr",
          "text": [
            "\n",
            "os.fork() was called. os.fork() is incompatible with multithreaded code, and JAX is multithreaded, so this will likely lead to a deadlock.\n",
            "\u001b[34m\u001b[1mval: \u001b[0mScanning /content/datasets/chessPiecesDetection-6/valid/labels... 45 images, 0 backgrounds, 0 corrupt: 100%|██████████| 45/45 [00:00<00:00, 472.09it/s]"
          ]
        },
        {
          "output_type": "stream",
          "name": "stdout",
          "text": [
            "\u001b[34m\u001b[1mval: \u001b[0mNew cache created: /content/datasets/chessPiecesDetection-6/valid/labels.cache\n"
          ]
        },
        {
          "output_type": "stream",
          "name": "stderr",
          "text": [
            "\n"
          ]
        },
        {
          "output_type": "stream",
          "name": "stdout",
          "text": [
            "Plotting labels to runs/detect/train3/labels.jpg... \n",
            "\u001b[34m\u001b[1moptimizer:\u001b[0m 'optimizer=auto' found, ignoring 'lr0=0.0001' and 'momentum=0.937' and determining best 'optimizer', 'lr0' and 'momentum' automatically... \n",
            "\u001b[34m\u001b[1moptimizer:\u001b[0m AdamW(lr=0.000625, momentum=0.9) with parameter groups 77 weight(decay=0.0), 84 weight(decay=0.0005), 83 bias(decay=0.0)\n",
            "\u001b[34m\u001b[1mTensorBoard: \u001b[0mmodel graph visualization added ✅\n",
            "Image sizes 640 train, 640 val\n",
            "Using 2 dataloader workers\n",
            "Logging results to \u001b[1mruns/detect/train3\u001b[0m\n",
            "Starting training for 600 epochs...\n",
            "\n",
            "      Epoch    GPU_mem   box_loss   cls_loss   dfl_loss  Instances       Size\n"
          ]
        },
        {
          "output_type": "stream",
          "name": "stderr",
          "text": [
            "      1/600      7.36G      1.781      3.497      1.359        236        640: 100%|██████████| 17/17 [00:15<00:00,  1.06it/s]\n",
            "                 Class     Images  Instances      Box(P          R      mAP50  mAP50-95): 100%|██████████| 2/2 [00:01<00:00,  1.19it/s]"
          ]
        },
        {
          "output_type": "stream",
          "name": "stdout",
          "text": [
            "                   all         45        558      0.159      0.382      0.179      0.106\n"
          ]
        },
        {
          "output_type": "stream",
          "name": "stderr",
          "text": [
            "\n"
          ]
        },
        {
          "output_type": "stream",
          "name": "stdout",
          "text": [
            "\n",
            "      Epoch    GPU_mem   box_loss   cls_loss   dfl_loss  Instances       Size\n"
          ]
        },
        {
          "output_type": "stream",
          "name": "stderr",
          "text": [
            "      2/600      7.11G      1.193      1.952      1.042        164        640: 100%|██████████| 17/17 [00:10<00:00,  1.60it/s]\n",
            "                 Class     Images  Instances      Box(P          R      mAP50  mAP50-95): 100%|██████████| 2/2 [00:01<00:00,  1.67it/s]"
          ]
        },
        {
          "output_type": "stream",
          "name": "stdout",
          "text": [
            "                   all         45        558      0.237      0.514      0.324      0.215\n"
          ]
        },
        {
          "output_type": "stream",
          "name": "stderr",
          "text": [
            "\n"
          ]
        },
        {
          "output_type": "stream",
          "name": "stdout",
          "text": [
            "\n",
            "      Epoch    GPU_mem   box_loss   cls_loss   dfl_loss  Instances       Size\n"
          ]
        },
        {
          "output_type": "stream",
          "name": "stderr",
          "text": [
            "      3/600      7.22G      1.015      1.518     0.9697        299        640: 100%|██████████| 17/17 [00:10<00:00,  1.66it/s]\n",
            "                 Class     Images  Instances      Box(P          R      mAP50  mAP50-95): 100%|██████████| 2/2 [00:00<00:00,  2.78it/s]"
          ]
        },
        {
          "output_type": "stream",
          "name": "stdout",
          "text": [
            "                   all         45        558      0.392      0.609      0.496      0.353\n"
          ]
        },
        {
          "output_type": "stream",
          "name": "stderr",
          "text": [
            "\n"
          ]
        },
        {
          "output_type": "stream",
          "name": "stdout",
          "text": [
            "\n",
            "      Epoch    GPU_mem   box_loss   cls_loss   dfl_loss  Instances       Size\n"
          ]
        },
        {
          "output_type": "stream",
          "name": "stderr",
          "text": [
            "      4/600      7.12G      0.984      1.307     0.9694        172        640: 100%|██████████| 17/17 [00:09<00:00,  1.76it/s]\n",
            "                 Class     Images  Instances      Box(P          R      mAP50  mAP50-95): 100%|██████████| 2/2 [00:01<00:00,  1.70it/s]"
          ]
        },
        {
          "output_type": "stream",
          "name": "stdout",
          "text": [
            "                   all         45        558      0.454      0.615      0.565       0.42\n"
          ]
        },
        {
          "output_type": "stream",
          "name": "stderr",
          "text": [
            "\n"
          ]
        },
        {
          "output_type": "stream",
          "name": "stdout",
          "text": [
            "\n",
            "      Epoch    GPU_mem   box_loss   cls_loss   dfl_loss  Instances       Size\n"
          ]
        },
        {
          "output_type": "stream",
          "name": "stderr",
          "text": [
            "      5/600       7.2G     0.9841      1.161     0.9703        248        640: 100%|██████████| 17/17 [00:09<00:00,  1.89it/s]\n",
            "                 Class     Images  Instances      Box(P          R      mAP50  mAP50-95): 100%|██████████| 2/2 [00:00<00:00,  2.86it/s]"
          ]
        },
        {
          "output_type": "stream",
          "name": "stdout",
          "text": [
            "                   all         45        558      0.556      0.657      0.653      0.497\n"
          ]
        },
        {
          "output_type": "stream",
          "name": "stderr",
          "text": [
            "\n"
          ]
        },
        {
          "output_type": "stream",
          "name": "stdout",
          "text": [
            "\n",
            "      Epoch    GPU_mem   box_loss   cls_loss   dfl_loss  Instances       Size\n"
          ]
        },
        {
          "output_type": "stream",
          "name": "stderr",
          "text": [
            "      6/600      7.22G     0.9749      1.069     0.9503        298        640: 100%|██████████| 17/17 [00:10<00:00,  1.68it/s]\n",
            "                 Class     Images  Instances      Box(P          R      mAP50  mAP50-95): 100%|██████████| 2/2 [00:00<00:00,  2.49it/s]"
          ]
        },
        {
          "output_type": "stream",
          "name": "stdout",
          "text": [
            "                   all         45        558      0.525      0.681       0.69      0.483\n"
          ]
        },
        {
          "output_type": "stream",
          "name": "stderr",
          "text": [
            "\n"
          ]
        },
        {
          "output_type": "stream",
          "name": "stdout",
          "text": [
            "\n",
            "      Epoch    GPU_mem   box_loss   cls_loss   dfl_loss  Instances       Size\n"
          ]
        },
        {
          "output_type": "stream",
          "name": "stderr",
          "text": [
            "      7/600      7.22G      0.936      1.003     0.9487        213        640: 100%|██████████| 17/17 [00:08<00:00,  1.93it/s]\n",
            "                 Class     Images  Instances      Box(P          R      mAP50  mAP50-95): 100%|██████████| 2/2 [00:01<00:00,  1.92it/s]"
          ]
        },
        {
          "output_type": "stream",
          "name": "stdout",
          "text": [
            "                   all         45        558      0.652      0.664      0.715      0.528\n"
          ]
        },
        {
          "output_type": "stream",
          "name": "stderr",
          "text": [
            "\n"
          ]
        },
        {
          "output_type": "stream",
          "name": "stdout",
          "text": [
            "\n",
            "      Epoch    GPU_mem   box_loss   cls_loss   dfl_loss  Instances       Size\n"
          ]
        },
        {
          "output_type": "stream",
          "name": "stderr",
          "text": [
            "      8/600      7.23G     0.8934     0.9316     0.9445        210        640: 100%|██████████| 17/17 [00:10<00:00,  1.66it/s]\n",
            "                 Class     Images  Instances      Box(P          R      mAP50  mAP50-95): 100%|██████████| 2/2 [00:00<00:00,  2.85it/s]"
          ]
        },
        {
          "output_type": "stream",
          "name": "stdout",
          "text": [
            "                   all         45        558       0.66      0.721      0.746      0.545\n"
          ]
        },
        {
          "output_type": "stream",
          "name": "stderr",
          "text": [
            "\n"
          ]
        },
        {
          "output_type": "stream",
          "name": "stdout",
          "text": [
            "\n",
            "      Epoch    GPU_mem   box_loss   cls_loss   dfl_loss  Instances       Size\n"
          ]
        },
        {
          "output_type": "stream",
          "name": "stderr",
          "text": [
            "      9/600      7.07G     0.9197     0.8953     0.9565        159        640: 100%|██████████| 17/17 [00:09<00:00,  1.81it/s]\n",
            "                 Class     Images  Instances      Box(P          R      mAP50  mAP50-95): 100%|██████████| 2/2 [00:01<00:00,  1.79it/s]"
          ]
        },
        {
          "output_type": "stream",
          "name": "stdout",
          "text": [
            "                   all         45        558      0.657      0.745      0.752       0.57\n"
          ]
        },
        {
          "output_type": "stream",
          "name": "stderr",
          "text": [
            "\n"
          ]
        },
        {
          "output_type": "stream",
          "name": "stdout",
          "text": [
            "\n",
            "      Epoch    GPU_mem   box_loss   cls_loss   dfl_loss  Instances       Size\n"
          ]
        },
        {
          "output_type": "stream",
          "name": "stderr",
          "text": [
            "     10/600      7.16G     0.8968      0.841     0.9304        227        640: 100%|██████████| 17/17 [00:09<00:00,  1.85it/s]\n",
            "                 Class     Images  Instances      Box(P          R      mAP50  mAP50-95): 100%|██████████| 2/2 [00:00<00:00,  2.87it/s]"
          ]
        },
        {
          "output_type": "stream",
          "name": "stdout",
          "text": [
            "                   all         45        558      0.768      0.697      0.792      0.593\n"
          ]
        },
        {
          "output_type": "stream",
          "name": "stderr",
          "text": [
            "\n"
          ]
        },
        {
          "output_type": "stream",
          "name": "stdout",
          "text": [
            "\n",
            "      Epoch    GPU_mem   box_loss   cls_loss   dfl_loss  Instances       Size\n"
          ]
        },
        {
          "output_type": "stream",
          "name": "stderr",
          "text": [
            "     11/600      7.16G     0.8468     0.7562     0.9135        187        640: 100%|██████████| 17/17 [00:09<00:00,  1.70it/s]\n",
            "                 Class     Images  Instances      Box(P          R      mAP50  mAP50-95): 100%|██████████| 2/2 [00:01<00:00,  1.78it/s]"
          ]
        },
        {
          "output_type": "stream",
          "name": "stdout",
          "text": [
            "                   all         45        558      0.711      0.766        0.8      0.612\n"
          ]
        },
        {
          "output_type": "stream",
          "name": "stderr",
          "text": [
            "\n"
          ]
        },
        {
          "output_type": "stream",
          "name": "stdout",
          "text": [
            "\n",
            "      Epoch    GPU_mem   box_loss   cls_loss   dfl_loss  Instances       Size\n"
          ]
        },
        {
          "output_type": "stream",
          "name": "stderr",
          "text": [
            "     12/600      7.16G     0.8743     0.7106     0.9254        176        640: 100%|██████████| 17/17 [00:08<00:00,  1.92it/s]\n",
            "                 Class     Images  Instances      Box(P          R      mAP50  mAP50-95): 100%|██████████| 2/2 [00:00<00:00,  2.17it/s]"
          ]
        },
        {
          "output_type": "stream",
          "name": "stdout",
          "text": [
            "                   all         45        558      0.757       0.78      0.822       0.62\n"
          ]
        },
        {
          "output_type": "stream",
          "name": "stderr",
          "text": [
            "\n"
          ]
        },
        {
          "output_type": "stream",
          "name": "stdout",
          "text": [
            "\n",
            "      Epoch    GPU_mem   box_loss   cls_loss   dfl_loss  Instances       Size\n"
          ]
        },
        {
          "output_type": "stream",
          "name": "stderr",
          "text": [
            "     13/600      7.19G     0.8482     0.6911     0.9177        264        640: 100%|██████████| 17/17 [00:10<00:00,  1.69it/s]\n",
            "                 Class     Images  Instances      Box(P          R      mAP50  mAP50-95): 100%|██████████| 2/2 [00:00<00:00,  2.86it/s]"
          ]
        },
        {
          "output_type": "stream",
          "name": "stdout",
          "text": [
            "                   all         45        558      0.764      0.781      0.834      0.632\n"
          ]
        },
        {
          "output_type": "stream",
          "name": "stderr",
          "text": [
            "\n"
          ]
        },
        {
          "output_type": "stream",
          "name": "stdout",
          "text": [
            "\n",
            "      Epoch    GPU_mem   box_loss   cls_loss   dfl_loss  Instances       Size\n"
          ]
        },
        {
          "output_type": "stream",
          "name": "stderr",
          "text": [
            "     14/600      7.15G     0.8176     0.6652     0.9209        276        640: 100%|██████████| 17/17 [00:09<00:00,  1.85it/s]\n",
            "                 Class     Images  Instances      Box(P          R      mAP50  mAP50-95): 100%|██████████| 2/2 [00:01<00:00,  1.71it/s]"
          ]
        },
        {
          "output_type": "stream",
          "name": "stdout",
          "text": [
            "                   all         45        558       0.77      0.732      0.814      0.631\n"
          ]
        },
        {
          "output_type": "stream",
          "name": "stderr",
          "text": [
            "\n"
          ]
        },
        {
          "output_type": "stream",
          "name": "stdout",
          "text": [
            "\n",
            "      Epoch    GPU_mem   box_loss   cls_loss   dfl_loss  Instances       Size\n"
          ]
        },
        {
          "output_type": "stream",
          "name": "stderr",
          "text": [
            "     15/600      7.23G      0.859     0.6727     0.9293        363        640: 100%|██████████| 17/17 [00:10<00:00,  1.65it/s]\n",
            "                 Class     Images  Instances      Box(P          R      mAP50  mAP50-95): 100%|██████████| 2/2 [00:01<00:00,  1.61it/s]"
          ]
        },
        {
          "output_type": "stream",
          "name": "stdout",
          "text": [
            "                   all         45        558      0.781      0.731      0.818      0.631\n"
          ]
        },
        {
          "output_type": "stream",
          "name": "stderr",
          "text": [
            "\n"
          ]
        },
        {
          "output_type": "stream",
          "name": "stdout",
          "text": [
            "\n",
            "      Epoch    GPU_mem   box_loss   cls_loss   dfl_loss  Instances       Size\n"
          ]
        },
        {
          "output_type": "stream",
          "name": "stderr",
          "text": [
            "     16/600      7.18G     0.8126      0.637     0.9238        275        640: 100%|██████████| 17/17 [00:10<00:00,  1.67it/s]\n",
            "                 Class     Images  Instances      Box(P          R      mAP50  mAP50-95): 100%|██████████| 2/2 [00:01<00:00,  1.67it/s]"
          ]
        },
        {
          "output_type": "stream",
          "name": "stdout",
          "text": [
            "                   all         45        558      0.652      0.764      0.785      0.594\n"
          ]
        },
        {
          "output_type": "stream",
          "name": "stderr",
          "text": [
            "\n"
          ]
        },
        {
          "output_type": "stream",
          "name": "stdout",
          "text": [
            "\n",
            "      Epoch    GPU_mem   box_loss   cls_loss   dfl_loss  Instances       Size\n"
          ]
        },
        {
          "output_type": "stream",
          "name": "stderr",
          "text": [
            "     17/600      7.16G       0.86     0.6322      0.917        226        640: 100%|██████████| 17/17 [00:08<00:00,  1.93it/s]\n",
            "                 Class     Images  Instances      Box(P          R      mAP50  mAP50-95): 100%|██████████| 2/2 [00:00<00:00,  2.84it/s]"
          ]
        },
        {
          "output_type": "stream",
          "name": "stdout",
          "text": [
            "                   all         45        558      0.623      0.755      0.763      0.602\n"
          ]
        },
        {
          "output_type": "stream",
          "name": "stderr",
          "text": [
            "\n"
          ]
        },
        {
          "output_type": "stream",
          "name": "stdout",
          "text": [
            "\n",
            "      Epoch    GPU_mem   box_loss   cls_loss   dfl_loss  Instances       Size\n"
          ]
        },
        {
          "output_type": "stream",
          "name": "stderr",
          "text": [
            "     18/600      7.15G     0.8244     0.6071     0.9189        175        640: 100%|██████████| 17/17 [00:10<00:00,  1.69it/s]\n",
            "                 Class     Images  Instances      Box(P          R      mAP50  mAP50-95): 100%|██████████| 2/2 [00:00<00:00,  2.88it/s]"
          ]
        },
        {
          "output_type": "stream",
          "name": "stdout",
          "text": [
            "                   all         45        558      0.744      0.831      0.856      0.665\n"
          ]
        },
        {
          "output_type": "stream",
          "name": "stderr",
          "text": [
            "\n"
          ]
        },
        {
          "output_type": "stream",
          "name": "stdout",
          "text": [
            "\n",
            "      Epoch    GPU_mem   box_loss   cls_loss   dfl_loss  Instances       Size\n"
          ]
        },
        {
          "output_type": "stream",
          "name": "stderr",
          "text": [
            "     19/600      7.26G     0.8061     0.5716     0.9154        307        640: 100%|██████████| 17/17 [00:08<00:00,  1.89it/s]\n",
            "                 Class     Images  Instances      Box(P          R      mAP50  mAP50-95): 100%|██████████| 2/2 [00:01<00:00,  1.94it/s]"
          ]
        },
        {
          "output_type": "stream",
          "name": "stdout",
          "text": [
            "                   all         45        558      0.752      0.784      0.833      0.646\n"
          ]
        },
        {
          "output_type": "stream",
          "name": "stderr",
          "text": [
            "\n"
          ]
        },
        {
          "output_type": "stream",
          "name": "stdout",
          "text": [
            "\n",
            "      Epoch    GPU_mem   box_loss   cls_loss   dfl_loss  Instances       Size\n"
          ]
        },
        {
          "output_type": "stream",
          "name": "stderr",
          "text": [
            "     20/600      7.23G     0.8113     0.5609     0.9091        207        640: 100%|██████████| 17/17 [00:10<00:00,  1.67it/s]\n",
            "                 Class     Images  Instances      Box(P          R      mAP50  mAP50-95): 100%|██████████| 2/2 [00:00<00:00,  2.61it/s]"
          ]
        },
        {
          "output_type": "stream",
          "name": "stdout",
          "text": [
            "                   all         45        558      0.762      0.764      0.842      0.656\n"
          ]
        },
        {
          "output_type": "stream",
          "name": "stderr",
          "text": [
            "\n"
          ]
        },
        {
          "output_type": "stream",
          "name": "stdout",
          "text": [
            "\n",
            "      Epoch    GPU_mem   box_loss   cls_loss   dfl_loss  Instances       Size\n"
          ]
        },
        {
          "output_type": "stream",
          "name": "stderr",
          "text": [
            "     21/600      7.19G     0.7985     0.5725     0.9102        206        640: 100%|██████████| 17/17 [00:09<00:00,  1.79it/s]\n",
            "                 Class     Images  Instances      Box(P          R      mAP50  mAP50-95): 100%|██████████| 2/2 [00:01<00:00,  2.00it/s]"
          ]
        },
        {
          "output_type": "stream",
          "name": "stdout",
          "text": [
            "                   all         45        558       0.76      0.789       0.85      0.665\n"
          ]
        },
        {
          "output_type": "stream",
          "name": "stderr",
          "text": [
            "\n"
          ]
        },
        {
          "output_type": "stream",
          "name": "stdout",
          "text": [
            "\n",
            "      Epoch    GPU_mem   box_loss   cls_loss   dfl_loss  Instances       Size\n"
          ]
        },
        {
          "output_type": "stream",
          "name": "stderr",
          "text": [
            "     22/600      7.15G     0.7808     0.5735     0.9156        181        640: 100%|██████████| 17/17 [00:09<00:00,  1.86it/s]\n",
            "                 Class     Images  Instances      Box(P          R      mAP50  mAP50-95): 100%|██████████| 2/2 [00:00<00:00,  2.84it/s]"
          ]
        },
        {
          "output_type": "stream",
          "name": "stdout",
          "text": [
            "                   all         45        558      0.817      0.837      0.889      0.691\n"
          ]
        },
        {
          "output_type": "stream",
          "name": "stderr",
          "text": [
            "\n"
          ]
        },
        {
          "output_type": "stream",
          "name": "stdout",
          "text": [
            "\n",
            "      Epoch    GPU_mem   box_loss   cls_loss   dfl_loss  Instances       Size\n"
          ]
        },
        {
          "output_type": "stream",
          "name": "stderr",
          "text": [
            "     23/600      7.22G     0.7963      0.576     0.9104        264        640: 100%|██████████| 17/17 [00:09<00:00,  1.71it/s]\n",
            "                 Class     Images  Instances      Box(P          R      mAP50  mAP50-95): 100%|██████████| 2/2 [00:01<00:00,  1.86it/s]"
          ]
        },
        {
          "output_type": "stream",
          "name": "stdout",
          "text": [
            "                   all         45        558      0.743      0.807       0.85       0.67\n"
          ]
        },
        {
          "output_type": "stream",
          "name": "stderr",
          "text": [
            "\n"
          ]
        },
        {
          "output_type": "stream",
          "name": "stdout",
          "text": [
            "\n",
            "      Epoch    GPU_mem   box_loss   cls_loss   dfl_loss  Instances       Size\n"
          ]
        },
        {
          "output_type": "stream",
          "name": "stderr",
          "text": [
            "     24/600      7.23G      0.768      0.537     0.9013        214        640: 100%|██████████| 17/17 [00:08<00:00,  1.92it/s]\n",
            "                 Class     Images  Instances      Box(P          R      mAP50  mAP50-95): 100%|██████████| 2/2 [00:00<00:00,  2.88it/s]"
          ]
        },
        {
          "output_type": "stream",
          "name": "stdout",
          "text": [
            "                   all         45        558       0.77      0.797      0.857      0.658\n"
          ]
        },
        {
          "output_type": "stream",
          "name": "stderr",
          "text": [
            "\n"
          ]
        },
        {
          "output_type": "stream",
          "name": "stdout",
          "text": [
            "\n",
            "      Epoch    GPU_mem   box_loss   cls_loss   dfl_loss  Instances       Size\n"
          ]
        },
        {
          "output_type": "stream",
          "name": "stderr",
          "text": [
            "     25/600      7.08G     0.7911     0.5439     0.9053        206        640: 100%|██████████| 17/17 [00:10<00:00,  1.63it/s]\n",
            "                 Class     Images  Instances      Box(P          R      mAP50  mAP50-95): 100%|██████████| 2/2 [00:00<00:00,  2.72it/s]"
          ]
        },
        {
          "output_type": "stream",
          "name": "stdout",
          "text": [
            "                   all         45        558      0.833      0.822      0.871      0.675\n"
          ]
        },
        {
          "output_type": "stream",
          "name": "stderr",
          "text": [
            "\n"
          ]
        },
        {
          "output_type": "stream",
          "name": "stdout",
          "text": [
            "\n",
            "      Epoch    GPU_mem   box_loss   cls_loss   dfl_loss  Instances       Size\n"
          ]
        },
        {
          "output_type": "stream",
          "name": "stderr",
          "text": [
            "     26/600      7.37G     0.7681     0.5382     0.9021        214        640: 100%|██████████| 17/17 [00:08<00:00,  1.92it/s]\n",
            "                 Class     Images  Instances      Box(P          R      mAP50  mAP50-95): 100%|██████████| 2/2 [00:00<00:00,  2.12it/s]"
          ]
        },
        {
          "output_type": "stream",
          "name": "stdout",
          "text": [
            "                   all         45        558      0.805      0.814      0.868      0.682\n"
          ]
        },
        {
          "output_type": "stream",
          "name": "stderr",
          "text": [
            "\n"
          ]
        },
        {
          "output_type": "stream",
          "name": "stdout",
          "text": [
            "\n",
            "      Epoch    GPU_mem   box_loss   cls_loss   dfl_loss  Instances       Size\n"
          ]
        },
        {
          "output_type": "stream",
          "name": "stderr",
          "text": [
            "     27/600      7.27G     0.7848     0.5306     0.8992        217        640: 100%|██████████| 17/17 [00:10<00:00,  1.69it/s]\n",
            "                 Class     Images  Instances      Box(P          R      mAP50  mAP50-95): 100%|██████████| 2/2 [00:00<00:00,  2.88it/s]"
          ]
        },
        {
          "output_type": "stream",
          "name": "stdout",
          "text": [
            "                   all         45        558      0.776      0.796      0.867      0.677\n"
          ]
        },
        {
          "output_type": "stream",
          "name": "stderr",
          "text": [
            "\n"
          ]
        },
        {
          "output_type": "stream",
          "name": "stdout",
          "text": [
            "\n",
            "      Epoch    GPU_mem   box_loss   cls_loss   dfl_loss  Instances       Size\n"
          ]
        },
        {
          "output_type": "stream",
          "name": "stderr",
          "text": [
            "     28/600      7.17G     0.7748     0.5281     0.8959        205        640: 100%|██████████| 17/17 [00:09<00:00,  1.85it/s]\n",
            "                 Class     Images  Instances      Box(P          R      mAP50  mAP50-95): 100%|██████████| 2/2 [00:01<00:00,  1.97it/s]"
          ]
        },
        {
          "output_type": "stream",
          "name": "stdout",
          "text": [
            "                   all         45        558      0.788      0.711      0.805      0.629\n"
          ]
        },
        {
          "output_type": "stream",
          "name": "stderr",
          "text": [
            "\n"
          ]
        },
        {
          "output_type": "stream",
          "name": "stdout",
          "text": [
            "\n",
            "      Epoch    GPU_mem   box_loss   cls_loss   dfl_loss  Instances       Size\n"
          ]
        },
        {
          "output_type": "stream",
          "name": "stderr",
          "text": [
            "     29/600       7.1G     0.7334      0.489     0.8852        176        640: 100%|██████████| 17/17 [00:10<00:00,  1.65it/s]\n",
            "                 Class     Images  Instances      Box(P          R      mAP50  mAP50-95): 100%|██████████| 2/2 [00:01<00:00,  1.72it/s]"
          ]
        },
        {
          "output_type": "stream",
          "name": "stdout",
          "text": [
            "                   all         45        558      0.759      0.808      0.849       0.68\n"
          ]
        },
        {
          "output_type": "stream",
          "name": "stderr",
          "text": [
            "\n"
          ]
        },
        {
          "output_type": "stream",
          "name": "stdout",
          "text": [
            "\n",
            "      Epoch    GPU_mem   box_loss   cls_loss   dfl_loss  Instances       Size\n"
          ]
        },
        {
          "output_type": "stream",
          "name": "stderr",
          "text": [
            "     30/600      7.23G     0.7457     0.4943     0.8913        316        640: 100%|██████████| 17/17 [00:09<00:00,  1.72it/s]\n",
            "                 Class     Images  Instances      Box(P          R      mAP50  mAP50-95): 100%|██████████| 2/2 [00:01<00:00,  1.89it/s]"
          ]
        },
        {
          "output_type": "stream",
          "name": "stdout",
          "text": [
            "                   all         45        558      0.792      0.819      0.858      0.672\n"
          ]
        },
        {
          "output_type": "stream",
          "name": "stderr",
          "text": [
            "\n"
          ]
        },
        {
          "output_type": "stream",
          "name": "stdout",
          "text": [
            "\n",
            "      Epoch    GPU_mem   box_loss   cls_loss   dfl_loss  Instances       Size\n"
          ]
        },
        {
          "output_type": "stream",
          "name": "stderr",
          "text": [
            "     31/600      7.22G     0.7272     0.4842     0.8806        251        640: 100%|██████████| 17/17 [00:08<00:00,  1.93it/s]\n",
            "                 Class     Images  Instances      Box(P          R      mAP50  mAP50-95): 100%|██████████| 2/2 [00:00<00:00,  2.91it/s]"
          ]
        },
        {
          "output_type": "stream",
          "name": "stdout",
          "text": [
            "                   all         45        558      0.754       0.74      0.821      0.644\n"
          ]
        },
        {
          "output_type": "stream",
          "name": "stderr",
          "text": [
            "\n"
          ]
        },
        {
          "output_type": "stream",
          "name": "stdout",
          "text": [
            "\n",
            "      Epoch    GPU_mem   box_loss   cls_loss   dfl_loss  Instances       Size\n"
          ]
        },
        {
          "output_type": "stream",
          "name": "stderr",
          "text": [
            "     32/600      7.24G     0.7332     0.4841     0.8864        205        640: 100%|██████████| 17/17 [00:10<00:00,  1.66it/s]\n",
            "                 Class     Images  Instances      Box(P          R      mAP50  mAP50-95): 100%|██████████| 2/2 [00:00<00:00,  2.69it/s]"
          ]
        },
        {
          "output_type": "stream",
          "name": "stdout",
          "text": [
            "                   all         45        558      0.828      0.807      0.877      0.678\n"
          ]
        },
        {
          "output_type": "stream",
          "name": "stderr",
          "text": [
            "\n"
          ]
        },
        {
          "output_type": "stream",
          "name": "stdout",
          "text": [
            "\n",
            "      Epoch    GPU_mem   box_loss   cls_loss   dfl_loss  Instances       Size\n"
          ]
        },
        {
          "output_type": "stream",
          "name": "stderr",
          "text": [
            "     33/600      7.14G     0.7473     0.4764     0.8921        174        640: 100%|██████████| 17/17 [00:09<00:00,  1.87it/s]\n",
            "                 Class     Images  Instances      Box(P          R      mAP50  mAP50-95): 100%|██████████| 2/2 [00:00<00:00,  2.13it/s]"
          ]
        },
        {
          "output_type": "stream",
          "name": "stdout",
          "text": [
            "                   all         45        558       0.79      0.774      0.842      0.661\n"
          ]
        },
        {
          "output_type": "stream",
          "name": "stderr",
          "text": [
            "\n"
          ]
        },
        {
          "output_type": "stream",
          "name": "stdout",
          "text": [
            "\n",
            "      Epoch    GPU_mem   box_loss   cls_loss   dfl_loss  Instances       Size\n"
          ]
        },
        {
          "output_type": "stream",
          "name": "stderr",
          "text": [
            "     34/600      7.17G     0.7262     0.4579     0.8768        297        640: 100%|██████████| 17/17 [00:09<00:00,  1.80it/s]\n",
            "                 Class     Images  Instances      Box(P          R      mAP50  mAP50-95): 100%|██████████| 2/2 [00:00<00:00,  2.88it/s]"
          ]
        },
        {
          "output_type": "stream",
          "name": "stdout",
          "text": [
            "                   all         45        558      0.869        0.8      0.879      0.692\n"
          ]
        },
        {
          "output_type": "stream",
          "name": "stderr",
          "text": [
            "\n"
          ]
        },
        {
          "output_type": "stream",
          "name": "stdout",
          "text": [
            "\n",
            "      Epoch    GPU_mem   box_loss   cls_loss   dfl_loss  Instances       Size\n"
          ]
        },
        {
          "output_type": "stream",
          "name": "stderr",
          "text": [
            "     35/600      7.23G      0.731     0.4751     0.8815        190        640: 100%|██████████| 17/17 [00:09<00:00,  1.77it/s]\n",
            "                 Class     Images  Instances      Box(P          R      mAP50  mAP50-95): 100%|██████████| 2/2 [00:01<00:00,  1.75it/s]"
          ]
        },
        {
          "output_type": "stream",
          "name": "stdout",
          "text": [
            "                   all         45        558      0.799      0.862      0.882      0.699\n"
          ]
        },
        {
          "output_type": "stream",
          "name": "stderr",
          "text": [
            "\n"
          ]
        },
        {
          "output_type": "stream",
          "name": "stdout",
          "text": [
            "\n",
            "      Epoch    GPU_mem   box_loss   cls_loss   dfl_loss  Instances       Size\n"
          ]
        },
        {
          "output_type": "stream",
          "name": "stderr",
          "text": [
            "     36/600      7.25G     0.7258     0.4534     0.8833        284        640: 100%|██████████| 17/17 [00:08<00:00,  1.89it/s]\n",
            "                 Class     Images  Instances      Box(P          R      mAP50  mAP50-95): 100%|██████████| 2/2 [00:00<00:00,  2.90it/s]"
          ]
        },
        {
          "output_type": "stream",
          "name": "stdout",
          "text": [
            "                   all         45        558      0.774      0.748      0.811      0.642\n"
          ]
        },
        {
          "output_type": "stream",
          "name": "stderr",
          "text": [
            "\n"
          ]
        },
        {
          "output_type": "stream",
          "name": "stdout",
          "text": [
            "\n",
            "      Epoch    GPU_mem   box_loss   cls_loss   dfl_loss  Instances       Size\n"
          ]
        },
        {
          "output_type": "stream",
          "name": "stderr",
          "text": [
            "     37/600      7.16G     0.7133     0.4547     0.8756        288        640: 100%|██████████| 17/17 [00:10<00:00,  1.68it/s]\n",
            "                 Class     Images  Instances      Box(P          R      mAP50  mAP50-95): 100%|██████████| 2/2 [00:01<00:00,  1.83it/s]"
          ]
        },
        {
          "output_type": "stream",
          "name": "stdout",
          "text": [
            "                   all         45        558      0.845      0.798       0.87      0.695\n"
          ]
        },
        {
          "output_type": "stream",
          "name": "stderr",
          "text": [
            "\n"
          ]
        },
        {
          "output_type": "stream",
          "name": "stdout",
          "text": [
            "\n",
            "      Epoch    GPU_mem   box_loss   cls_loss   dfl_loss  Instances       Size\n"
          ]
        },
        {
          "output_type": "stream",
          "name": "stderr",
          "text": [
            "     38/600      7.24G     0.7028     0.4563      0.883        173        640: 100%|██████████| 17/17 [00:08<00:00,  1.93it/s]\n",
            "                 Class     Images  Instances      Box(P          R      mAP50  mAP50-95): 100%|██████████| 2/2 [00:00<00:00,  2.87it/s]"
          ]
        },
        {
          "output_type": "stream",
          "name": "stdout",
          "text": [
            "                   all         45        558      0.848      0.826      0.886       0.69\n"
          ]
        },
        {
          "output_type": "stream",
          "name": "stderr",
          "text": [
            "\n"
          ]
        },
        {
          "output_type": "stream",
          "name": "stdout",
          "text": [
            "\n",
            "      Epoch    GPU_mem   box_loss   cls_loss   dfl_loss  Instances       Size\n"
          ]
        },
        {
          "output_type": "stream",
          "name": "stderr",
          "text": [
            "     39/600      7.17G     0.7073     0.4524     0.8843        290        640: 100%|██████████| 17/17 [00:10<00:00,  1.66it/s]\n",
            "                 Class     Images  Instances      Box(P          R      mAP50  mAP50-95): 100%|██████████| 2/2 [00:00<00:00,  2.86it/s]"
          ]
        },
        {
          "output_type": "stream",
          "name": "stdout",
          "text": [
            "                   all         45        558      0.866      0.817      0.897      0.684\n"
          ]
        },
        {
          "output_type": "stream",
          "name": "stderr",
          "text": [
            "\n"
          ]
        },
        {
          "output_type": "stream",
          "name": "stdout",
          "text": [
            "\n",
            "      Epoch    GPU_mem   box_loss   cls_loss   dfl_loss  Instances       Size\n"
          ]
        },
        {
          "output_type": "stream",
          "name": "stderr",
          "text": [
            "     40/600      7.34G     0.6987      0.444     0.8731        283        640: 100%|██████████| 17/17 [00:09<00:00,  1.88it/s]\n",
            "                 Class     Images  Instances      Box(P          R      mAP50  mAP50-95): 100%|██████████| 2/2 [00:00<00:00,  2.20it/s]"
          ]
        },
        {
          "output_type": "stream",
          "name": "stdout",
          "text": [
            "                   all         45        558      0.814      0.813      0.869      0.689\n"
          ]
        },
        {
          "output_type": "stream",
          "name": "stderr",
          "text": [
            "\n"
          ]
        },
        {
          "output_type": "stream",
          "name": "stdout",
          "text": [
            "\n",
            "      Epoch    GPU_mem   box_loss   cls_loss   dfl_loss  Instances       Size\n"
          ]
        },
        {
          "output_type": "stream",
          "name": "stderr",
          "text": [
            "     41/600      7.12G     0.6935     0.4429     0.8694        200        640: 100%|██████████| 17/17 [00:09<00:00,  1.72it/s]\n",
            "                 Class     Images  Instances      Box(P          R      mAP50  mAP50-95): 100%|██████████| 2/2 [00:00<00:00,  2.91it/s]\n"
          ]
        },
        {
          "output_type": "stream",
          "name": "stdout",
          "text": [
            "                   all         45        558      0.799      0.795       0.85      0.685\n",
            "\n",
            "      Epoch    GPU_mem   box_loss   cls_loss   dfl_loss  Instances       Size\n"
          ]
        },
        {
          "output_type": "stream",
          "name": "stderr",
          "text": [
            "     42/600      7.23G     0.6904     0.4362     0.8727        180        640: 100%|██████████| 17/17 [00:09<00:00,  1.84it/s]\n",
            "                 Class     Images  Instances      Box(P          R      mAP50  mAP50-95): 100%|██████████| 2/2 [00:01<00:00,  1.86it/s]"
          ]
        },
        {
          "output_type": "stream",
          "name": "stdout",
          "text": [
            "                   all         45        558      0.818      0.788      0.857      0.684\n"
          ]
        },
        {
          "output_type": "stream",
          "name": "stderr",
          "text": [
            "\n"
          ]
        },
        {
          "output_type": "stream",
          "name": "stdout",
          "text": [
            "\n",
            "      Epoch    GPU_mem   box_loss   cls_loss   dfl_loss  Instances       Size\n"
          ]
        },
        {
          "output_type": "stream",
          "name": "stderr",
          "text": [
            "     43/600       7.2G     0.6836     0.4347     0.8763        202        640: 100%|██████████| 17/17 [00:09<00:00,  1.78it/s]\n",
            "                 Class     Images  Instances      Box(P          R      mAP50  mAP50-95): 100%|██████████| 2/2 [00:00<00:00,  2.89it/s]"
          ]
        },
        {
          "output_type": "stream",
          "name": "stdout",
          "text": [
            "                   all         45        558      0.778       0.82      0.846      0.668\n"
          ]
        },
        {
          "output_type": "stream",
          "name": "stderr",
          "text": [
            "\n"
          ]
        },
        {
          "output_type": "stream",
          "name": "stdout",
          "text": [
            "\n",
            "      Epoch    GPU_mem   box_loss   cls_loss   dfl_loss  Instances       Size\n"
          ]
        },
        {
          "output_type": "stream",
          "name": "stderr",
          "text": [
            "     44/600      7.25G     0.6791     0.4351     0.8787        180        640: 100%|██████████| 17/17 [00:09<00:00,  1.74it/s]\n",
            "                 Class     Images  Instances      Box(P          R      mAP50  mAP50-95): 100%|██████████| 2/2 [00:01<00:00,  1.73it/s]"
          ]
        },
        {
          "output_type": "stream",
          "name": "stdout",
          "text": [
            "                   all         45        558      0.753      0.816      0.835      0.651\n"
          ]
        },
        {
          "output_type": "stream",
          "name": "stderr",
          "text": [
            "\n"
          ]
        },
        {
          "output_type": "stream",
          "name": "stdout",
          "text": [
            "\n",
            "      Epoch    GPU_mem   box_loss   cls_loss   dfl_loss  Instances       Size\n"
          ]
        },
        {
          "output_type": "stream",
          "name": "stderr",
          "text": [
            "     45/600       7.1G     0.6914     0.4417      0.871        131        640: 100%|██████████| 17/17 [00:10<00:00,  1.66it/s]\n",
            "                 Class     Images  Instances      Box(P          R      mAP50  mAP50-95): 100%|██████████| 2/2 [00:00<00:00,  2.94it/s]"
          ]
        },
        {
          "output_type": "stream",
          "name": "stdout",
          "text": [
            "                   all         45        558      0.802        0.8      0.863      0.668\n"
          ]
        },
        {
          "output_type": "stream",
          "name": "stderr",
          "text": [
            "\n"
          ]
        },
        {
          "output_type": "stream",
          "name": "stdout",
          "text": [
            "\n",
            "      Epoch    GPU_mem   box_loss   cls_loss   dfl_loss  Instances       Size\n"
          ]
        },
        {
          "output_type": "stream",
          "name": "stderr",
          "text": [
            "     46/600      7.14G     0.6653     0.4361     0.8705        279        640: 100%|██████████| 17/17 [00:09<00:00,  1.82it/s]\n",
            "                 Class     Images  Instances      Box(P          R      mAP50  mAP50-95): 100%|██████████| 2/2 [00:01<00:00,  1.80it/s]"
          ]
        },
        {
          "output_type": "stream",
          "name": "stdout",
          "text": [
            "                   all         45        558      0.769      0.764       0.82      0.653\n"
          ]
        },
        {
          "output_type": "stream",
          "name": "stderr",
          "text": [
            "\n"
          ]
        },
        {
          "output_type": "stream",
          "name": "stdout",
          "text": [
            "\n",
            "      Epoch    GPU_mem   box_loss   cls_loss   dfl_loss  Instances       Size\n"
          ]
        },
        {
          "output_type": "stream",
          "name": "stderr",
          "text": [
            "     47/600      7.24G     0.6846     0.4414     0.8705        228        640: 100%|██████████| 17/17 [00:09<00:00,  1.80it/s]\n",
            "                 Class     Images  Instances      Box(P          R      mAP50  mAP50-95): 100%|██████████| 2/2 [00:00<00:00,  2.87it/s]"
          ]
        },
        {
          "output_type": "stream",
          "name": "stdout",
          "text": [
            "                   all         45        558      0.742      0.815      0.842      0.653\n"
          ]
        },
        {
          "output_type": "stream",
          "name": "stderr",
          "text": [
            "\n"
          ]
        },
        {
          "output_type": "stream",
          "name": "stdout",
          "text": [
            "\n",
            "      Epoch    GPU_mem   box_loss   cls_loss   dfl_loss  Instances       Size\n"
          ]
        },
        {
          "output_type": "stream",
          "name": "stderr",
          "text": [
            "     48/600      7.19G     0.6953     0.4448      0.874        179        640: 100%|██████████| 17/17 [00:09<00:00,  1.74it/s]\n",
            "                 Class     Images  Instances      Box(P          R      mAP50  mAP50-95): 100%|██████████| 2/2 [00:01<00:00,  1.86it/s]"
          ]
        },
        {
          "output_type": "stream",
          "name": "stdout",
          "text": [
            "                   all         45        558      0.825      0.765      0.845      0.659\n"
          ]
        },
        {
          "output_type": "stream",
          "name": "stderr",
          "text": [
            "\n"
          ]
        },
        {
          "output_type": "stream",
          "name": "stdout",
          "text": [
            "\n",
            "      Epoch    GPU_mem   box_loss   cls_loss   dfl_loss  Instances       Size\n"
          ]
        },
        {
          "output_type": "stream",
          "name": "stderr",
          "text": [
            "     49/600      7.09G     0.6784     0.4255     0.8763        201        640: 100%|██████████| 17/17 [00:08<00:00,  1.92it/s]\n",
            "                 Class     Images  Instances      Box(P          R      mAP50  mAP50-95): 100%|██████████| 2/2 [00:00<00:00,  2.91it/s]"
          ]
        },
        {
          "output_type": "stream",
          "name": "stdout",
          "text": [
            "                   all         45        558      0.795      0.844      0.864      0.692\n"
          ]
        },
        {
          "output_type": "stream",
          "name": "stderr",
          "text": [
            "\n"
          ]
        },
        {
          "output_type": "stream",
          "name": "stdout",
          "text": [
            "\n",
            "      Epoch    GPU_mem   box_loss   cls_loss   dfl_loss  Instances       Size\n"
          ]
        },
        {
          "output_type": "stream",
          "name": "stderr",
          "text": [
            "     50/600      7.22G     0.6776     0.4241     0.8774        194        640: 100%|██████████| 17/17 [00:10<00:00,  1.68it/s]\n",
            "                 Class     Images  Instances      Box(P          R      mAP50  mAP50-95): 100%|██████████| 2/2 [00:01<00:00,  1.89it/s]"
          ]
        },
        {
          "output_type": "stream",
          "name": "stdout",
          "text": [
            "                   all         45        558      0.829      0.789      0.851      0.664\n"
          ]
        },
        {
          "output_type": "stream",
          "name": "stderr",
          "text": [
            "\n"
          ]
        },
        {
          "output_type": "stream",
          "name": "stdout",
          "text": [
            "\n",
            "      Epoch    GPU_mem   box_loss   cls_loss   dfl_loss  Instances       Size\n"
          ]
        },
        {
          "output_type": "stream",
          "name": "stderr",
          "text": [
            "     51/600      7.21G     0.6738      0.436     0.8736        302        640: 100%|██████████| 17/17 [00:08<00:00,  1.92it/s]\n",
            "                 Class     Images  Instances      Box(P          R      mAP50  mAP50-95): 100%|██████████| 2/2 [00:00<00:00,  2.29it/s]"
          ]
        },
        {
          "output_type": "stream",
          "name": "stdout",
          "text": [
            "                   all         45        558      0.858      0.832      0.893      0.711\n"
          ]
        },
        {
          "output_type": "stream",
          "name": "stderr",
          "text": [
            "\n"
          ]
        },
        {
          "output_type": "stream",
          "name": "stdout",
          "text": [
            "\n",
            "      Epoch    GPU_mem   box_loss   cls_loss   dfl_loss  Instances       Size\n"
          ]
        },
        {
          "output_type": "stream",
          "name": "stderr",
          "text": [
            "     52/600      7.17G     0.6602     0.4138       0.86        238        640: 100%|██████████| 17/17 [00:09<00:00,  1.71it/s]\n",
            "                 Class     Images  Instances      Box(P          R      mAP50  mAP50-95): 100%|██████████| 2/2 [00:00<00:00,  2.92it/s]"
          ]
        },
        {
          "output_type": "stream",
          "name": "stdout",
          "text": [
            "                   all         45        558      0.888      0.806      0.882      0.696\n"
          ]
        },
        {
          "output_type": "stream",
          "name": "stderr",
          "text": [
            "\n"
          ]
        },
        {
          "output_type": "stream",
          "name": "stdout",
          "text": [
            "\n",
            "      Epoch    GPU_mem   box_loss   cls_loss   dfl_loss  Instances       Size\n"
          ]
        },
        {
          "output_type": "stream",
          "name": "stderr",
          "text": [
            "     53/600      7.14G     0.6512     0.4075     0.8692        305        640: 100%|██████████| 17/17 [00:09<00:00,  1.85it/s]\n",
            "                 Class     Images  Instances      Box(P          R      mAP50  mAP50-95): 100%|██████████| 2/2 [00:00<00:00,  2.06it/s]"
          ]
        },
        {
          "output_type": "stream",
          "name": "stdout",
          "text": [
            "                   all         45        558      0.793      0.815      0.863      0.674\n"
          ]
        },
        {
          "output_type": "stream",
          "name": "stderr",
          "text": [
            "\n"
          ]
        },
        {
          "output_type": "stream",
          "name": "stdout",
          "text": [
            "\n",
            "      Epoch    GPU_mem   box_loss   cls_loss   dfl_loss  Instances       Size\n"
          ]
        },
        {
          "output_type": "stream",
          "name": "stderr",
          "text": [
            "     54/600      7.17G     0.6581     0.4129     0.8672        187        640: 100%|██████████| 17/17 [00:09<00:00,  1.75it/s]\n",
            "                 Class     Images  Instances      Box(P          R      mAP50  mAP50-95): 100%|██████████| 2/2 [00:00<00:00,  2.92it/s]"
          ]
        },
        {
          "output_type": "stream",
          "name": "stdout",
          "text": [
            "                   all         45        558      0.853      0.786      0.863      0.678\n"
          ]
        },
        {
          "output_type": "stream",
          "name": "stderr",
          "text": [
            "\n"
          ]
        },
        {
          "output_type": "stream",
          "name": "stdout",
          "text": [
            "\n",
            "      Epoch    GPU_mem   box_loss   cls_loss   dfl_loss  Instances       Size\n"
          ]
        },
        {
          "output_type": "stream",
          "name": "stderr",
          "text": [
            "     55/600      7.16G     0.6621     0.4089     0.8632        213        640: 100%|██████████| 17/17 [00:09<00:00,  1.78it/s]\n",
            "                 Class     Images  Instances      Box(P          R      mAP50  mAP50-95): 100%|██████████| 2/2 [00:01<00:00,  1.87it/s]"
          ]
        },
        {
          "output_type": "stream",
          "name": "stdout",
          "text": [
            "                   all         45        558      0.865      0.832      0.898      0.702\n"
          ]
        },
        {
          "output_type": "stream",
          "name": "stderr",
          "text": [
            "\n"
          ]
        },
        {
          "output_type": "stream",
          "name": "stdout",
          "text": [
            "\n",
            "      Epoch    GPU_mem   box_loss   cls_loss   dfl_loss  Instances       Size\n"
          ]
        },
        {
          "output_type": "stream",
          "name": "stderr",
          "text": [
            "     56/600       7.2G      0.657     0.3958     0.8569        212        640: 100%|██████████| 17/17 [00:09<00:00,  1.87it/s]\n",
            "                 Class     Images  Instances      Box(P          R      mAP50  mAP50-95): 100%|██████████| 2/2 [00:00<00:00,  2.94it/s]"
          ]
        },
        {
          "output_type": "stream",
          "name": "stdout",
          "text": [
            "                   all         45        558      0.874      0.852      0.895      0.706\n"
          ]
        },
        {
          "output_type": "stream",
          "name": "stderr",
          "text": [
            "\n"
          ]
        },
        {
          "output_type": "stream",
          "name": "stdout",
          "text": [
            "\n",
            "      Epoch    GPU_mem   box_loss   cls_loss   dfl_loss  Instances       Size\n"
          ]
        },
        {
          "output_type": "stream",
          "name": "stderr",
          "text": [
            "     57/600      7.16G     0.6894     0.4029     0.8601        248        640: 100%|██████████| 17/17 [00:10<00:00,  1.70it/s]\n",
            "                 Class     Images  Instances      Box(P          R      mAP50  mAP50-95): 100%|██████████| 2/2 [00:00<00:00,  2.92it/s]\n"
          ]
        },
        {
          "output_type": "stream",
          "name": "stdout",
          "text": [
            "                   all         45        558      0.852      0.812      0.883      0.688\n",
            "\n",
            "      Epoch    GPU_mem   box_loss   cls_loss   dfl_loss  Instances       Size\n"
          ]
        },
        {
          "output_type": "stream",
          "name": "stderr",
          "text": [
            "     58/600      7.21G      0.677     0.4053     0.8664        194        640: 100%|██████████| 17/17 [00:09<00:00,  1.82it/s]\n",
            "                 Class     Images  Instances      Box(P          R      mAP50  mAP50-95): 100%|██████████| 2/2 [00:01<00:00,  1.81it/s]"
          ]
        },
        {
          "output_type": "stream",
          "name": "stdout",
          "text": [
            "                   all         45        558      0.841      0.829      0.873       0.69\n"
          ]
        },
        {
          "output_type": "stream",
          "name": "stderr",
          "text": [
            "\n"
          ]
        },
        {
          "output_type": "stream",
          "name": "stdout",
          "text": [
            "\n",
            "      Epoch    GPU_mem   box_loss   cls_loss   dfl_loss  Instances       Size\n"
          ]
        },
        {
          "output_type": "stream",
          "name": "stderr",
          "text": [
            "     59/600      7.28G     0.6284     0.3824     0.8596        264        640: 100%|██████████| 17/17 [00:10<00:00,  1.60it/s]\n",
            "                 Class     Images  Instances      Box(P          R      mAP50  mAP50-95): 100%|██████████| 2/2 [00:01<00:00,  1.88it/s]"
          ]
        },
        {
          "output_type": "stream",
          "name": "stdout",
          "text": [
            "                   all         45        558      0.805      0.816      0.869      0.703\n"
          ]
        },
        {
          "output_type": "stream",
          "name": "stderr",
          "text": [
            "\n"
          ]
        },
        {
          "output_type": "stream",
          "name": "stdout",
          "text": [
            "\n",
            "      Epoch    GPU_mem   box_loss   cls_loss   dfl_loss  Instances       Size\n"
          ]
        },
        {
          "output_type": "stream",
          "name": "stderr",
          "text": [
            "     60/600      7.12G     0.6183     0.3727     0.8566        208        640: 100%|██████████| 17/17 [00:08<00:00,  1.92it/s]\n",
            "                 Class     Images  Instances      Box(P          R      mAP50  mAP50-95): 100%|██████████| 2/2 [00:00<00:00,  2.22it/s]"
          ]
        },
        {
          "output_type": "stream",
          "name": "stdout",
          "text": [
            "                   all         45        558      0.889      0.836        0.9      0.722\n"
          ]
        },
        {
          "output_type": "stream",
          "name": "stderr",
          "text": [
            "\n"
          ]
        },
        {
          "output_type": "stream",
          "name": "stdout",
          "text": [
            "\n",
            "      Epoch    GPU_mem   box_loss   cls_loss   dfl_loss  Instances       Size\n"
          ]
        },
        {
          "output_type": "stream",
          "name": "stderr",
          "text": [
            "     61/600      7.18G     0.6537     0.3911     0.8664        295        640: 100%|██████████| 17/17 [00:10<00:00,  1.69it/s]\n",
            "                 Class     Images  Instances      Box(P          R      mAP50  mAP50-95): 100%|██████████| 2/2 [00:00<00:00,  2.93it/s]"
          ]
        },
        {
          "output_type": "stream",
          "name": "stdout",
          "text": [
            "                   all         45        558      0.827      0.838      0.889      0.708\n"
          ]
        },
        {
          "output_type": "stream",
          "name": "stderr",
          "text": [
            "\n"
          ]
        },
        {
          "output_type": "stream",
          "name": "stdout",
          "text": [
            "\n",
            "      Epoch    GPU_mem   box_loss   cls_loss   dfl_loss  Instances       Size\n"
          ]
        },
        {
          "output_type": "stream",
          "name": "stderr",
          "text": [
            "     62/600      7.12G     0.6424     0.3922     0.8721        269        640: 100%|██████████| 17/17 [00:09<00:00,  1.88it/s]\n",
            "                 Class     Images  Instances      Box(P          R      mAP50  mAP50-95): 100%|██████████| 2/2 [00:00<00:00,  2.03it/s]"
          ]
        },
        {
          "output_type": "stream",
          "name": "stdout",
          "text": [
            "                   all         45        558      0.863      0.817      0.887      0.705\n"
          ]
        },
        {
          "output_type": "stream",
          "name": "stderr",
          "text": [
            "\n"
          ]
        },
        {
          "output_type": "stream",
          "name": "stdout",
          "text": [
            "\n",
            "      Epoch    GPU_mem   box_loss   cls_loss   dfl_loss  Instances       Size\n"
          ]
        },
        {
          "output_type": "stream",
          "name": "stderr",
          "text": [
            "     63/600      7.18G     0.6645     0.4062     0.8776        312        640: 100%|██████████| 17/17 [00:09<00:00,  1.76it/s]\n",
            "                 Class     Images  Instances      Box(P          R      mAP50  mAP50-95): 100%|██████████| 2/2 [00:00<00:00,  2.87it/s]"
          ]
        },
        {
          "output_type": "stream",
          "name": "stdout",
          "text": [
            "                   all         45        558      0.795       0.81      0.861       0.69\n"
          ]
        },
        {
          "output_type": "stream",
          "name": "stderr",
          "text": [
            "\n"
          ]
        },
        {
          "output_type": "stream",
          "name": "stdout",
          "text": [
            "\n",
            "      Epoch    GPU_mem   box_loss   cls_loss   dfl_loss  Instances       Size\n"
          ]
        },
        {
          "output_type": "stream",
          "name": "stderr",
          "text": [
            "     64/600      7.16G      0.644     0.4048     0.8548        226        640: 100%|██████████| 17/17 [00:09<00:00,  1.77it/s]\n",
            "                 Class     Images  Instances      Box(P          R      mAP50  mAP50-95): 100%|██████████| 2/2 [00:01<00:00,  1.93it/s]"
          ]
        },
        {
          "output_type": "stream",
          "name": "stdout",
          "text": [
            "                   all         45        558      0.858      0.795      0.876      0.705\n"
          ]
        },
        {
          "output_type": "stream",
          "name": "stderr",
          "text": [
            "\n"
          ]
        },
        {
          "output_type": "stream",
          "name": "stdout",
          "text": [
            "\n",
            "      Epoch    GPU_mem   box_loss   cls_loss   dfl_loss  Instances       Size\n"
          ]
        },
        {
          "output_type": "stream",
          "name": "stderr",
          "text": [
            "     65/600      7.15G     0.6496     0.3914     0.8587        317        640: 100%|██████████| 17/17 [00:08<00:00,  1.92it/s]\n",
            "                 Class     Images  Instances      Box(P          R      mAP50  mAP50-95): 100%|██████████| 2/2 [00:00<00:00,  2.76it/s]"
          ]
        },
        {
          "output_type": "stream",
          "name": "stdout",
          "text": [
            "                   all         45        558      0.827      0.817      0.884        0.7\n"
          ]
        },
        {
          "output_type": "stream",
          "name": "stderr",
          "text": [
            "\n"
          ]
        },
        {
          "output_type": "stream",
          "name": "stdout",
          "text": [
            "\n",
            "      Epoch    GPU_mem   box_loss   cls_loss   dfl_loss  Instances       Size\n"
          ]
        },
        {
          "output_type": "stream",
          "name": "stderr",
          "text": [
            "     66/600      7.24G      0.633     0.3791      0.863        280        640: 100%|██████████| 17/17 [00:10<00:00,  1.69it/s]\n",
            "                 Class     Images  Instances      Box(P          R      mAP50  mAP50-95): 100%|██████████| 2/2 [00:01<00:00,  1.85it/s]"
          ]
        },
        {
          "output_type": "stream",
          "name": "stdout",
          "text": [
            "                   all         45        558      0.852      0.832      0.894      0.715\n"
          ]
        },
        {
          "output_type": "stream",
          "name": "stderr",
          "text": [
            "\n"
          ]
        },
        {
          "output_type": "stream",
          "name": "stdout",
          "text": [
            "\n",
            "      Epoch    GPU_mem   box_loss   cls_loss   dfl_loss  Instances       Size\n"
          ]
        },
        {
          "output_type": "stream",
          "name": "stderr",
          "text": [
            "     67/600      7.13G     0.6589     0.3978     0.8674        230        640: 100%|██████████| 17/17 [00:08<00:00,  1.93it/s]\n",
            "                 Class     Images  Instances      Box(P          R      mAP50  mAP50-95): 100%|██████████| 2/2 [00:00<00:00,  2.28it/s]"
          ]
        },
        {
          "output_type": "stream",
          "name": "stdout",
          "text": [
            "                   all         45        558      0.855      0.848      0.899      0.725\n"
          ]
        },
        {
          "output_type": "stream",
          "name": "stderr",
          "text": [
            "\n"
          ]
        },
        {
          "output_type": "stream",
          "name": "stdout",
          "text": [
            "\n",
            "      Epoch    GPU_mem   box_loss   cls_loss   dfl_loss  Instances       Size\n"
          ]
        },
        {
          "output_type": "stream",
          "name": "stderr",
          "text": [
            "     68/600      7.18G     0.6129     0.3761      0.855        191        640: 100%|██████████| 17/17 [00:10<00:00,  1.68it/s]\n",
            "                 Class     Images  Instances      Box(P          R      mAP50  mAP50-95): 100%|██████████| 2/2 [00:00<00:00,  2.92it/s]"
          ]
        },
        {
          "output_type": "stream",
          "name": "stdout",
          "text": [
            "                   all         45        558      0.861      0.849      0.905      0.716\n"
          ]
        },
        {
          "output_type": "stream",
          "name": "stderr",
          "text": [
            "\n"
          ]
        },
        {
          "output_type": "stream",
          "name": "stdout",
          "text": [
            "\n",
            "      Epoch    GPU_mem   box_loss   cls_loss   dfl_loss  Instances       Size\n"
          ]
        },
        {
          "output_type": "stream",
          "name": "stderr",
          "text": [
            "     69/600      7.12G     0.6105     0.3681      0.855        286        640: 100%|██████████| 17/17 [00:09<00:00,  1.86it/s]\n",
            "                 Class     Images  Instances      Box(P          R      mAP50  mAP50-95): 100%|██████████| 2/2 [00:01<00:00,  1.90it/s]"
          ]
        },
        {
          "output_type": "stream",
          "name": "stdout",
          "text": [
            "                   all         45        558      0.852      0.802      0.885      0.712\n"
          ]
        },
        {
          "output_type": "stream",
          "name": "stderr",
          "text": [
            "\n"
          ]
        },
        {
          "output_type": "stream",
          "name": "stdout",
          "text": [
            "\n",
            "      Epoch    GPU_mem   box_loss   cls_loss   dfl_loss  Instances       Size\n"
          ]
        },
        {
          "output_type": "stream",
          "name": "stderr",
          "text": [
            "     70/600      7.32G      0.611     0.3815     0.8543        265        640: 100%|██████████| 17/17 [00:09<00:00,  1.76it/s]\n",
            "                 Class     Images  Instances      Box(P          R      mAP50  mAP50-95): 100%|██████████| 2/2 [00:00<00:00,  2.88it/s]"
          ]
        },
        {
          "output_type": "stream",
          "name": "stdout",
          "text": [
            "                   all         45        558      0.863      0.789      0.887       0.71\n"
          ]
        },
        {
          "output_type": "stream",
          "name": "stderr",
          "text": [
            "\n"
          ]
        },
        {
          "output_type": "stream",
          "name": "stdout",
          "text": [
            "\n",
            "      Epoch    GPU_mem   box_loss   cls_loss   dfl_loss  Instances       Size\n"
          ]
        },
        {
          "output_type": "stream",
          "name": "stderr",
          "text": [
            "     71/600      7.26G     0.5969     0.3694     0.8549        208        640: 100%|██████████| 17/17 [00:09<00:00,  1.80it/s]\n",
            "                 Class     Images  Instances      Box(P          R      mAP50  mAP50-95): 100%|██████████| 2/2 [00:01<00:00,  1.68it/s]"
          ]
        },
        {
          "output_type": "stream",
          "name": "stdout",
          "text": [
            "                   all         45        558      0.837      0.818       0.89      0.711\n"
          ]
        },
        {
          "output_type": "stream",
          "name": "stderr",
          "text": [
            "\n"
          ]
        },
        {
          "output_type": "stream",
          "name": "stdout",
          "text": [
            "\n",
            "      Epoch    GPU_mem   box_loss   cls_loss   dfl_loss  Instances       Size\n"
          ]
        },
        {
          "output_type": "stream",
          "name": "stderr",
          "text": [
            "     72/600      7.26G      0.602     0.3776     0.8526        272        640: 100%|██████████| 17/17 [00:09<00:00,  1.76it/s]\n",
            "                 Class     Images  Instances      Box(P          R      mAP50  mAP50-95): 100%|██████████| 2/2 [00:01<00:00,  1.84it/s]"
          ]
        },
        {
          "output_type": "stream",
          "name": "stdout",
          "text": [
            "                   all         45        558      0.782      0.807       0.87       0.69\n"
          ]
        },
        {
          "output_type": "stream",
          "name": "stderr",
          "text": [
            "\n"
          ]
        },
        {
          "output_type": "stream",
          "name": "stdout",
          "text": [
            "\n",
            "      Epoch    GPU_mem   box_loss   cls_loss   dfl_loss  Instances       Size\n"
          ]
        },
        {
          "output_type": "stream",
          "name": "stderr",
          "text": [
            "     73/600      7.21G      0.614     0.3749     0.8573        186        640: 100%|██████████| 17/17 [00:10<00:00,  1.64it/s]\n",
            "                 Class     Images  Instances      Box(P          R      mAP50  mAP50-95): 100%|██████████| 2/2 [00:01<00:00,  1.60it/s]"
          ]
        },
        {
          "output_type": "stream",
          "name": "stdout",
          "text": [
            "                   all         45        558      0.845      0.824      0.888       0.71\n"
          ]
        },
        {
          "output_type": "stream",
          "name": "stderr",
          "text": [
            "\n"
          ]
        },
        {
          "output_type": "stream",
          "name": "stdout",
          "text": [
            "\n",
            "      Epoch    GPU_mem   box_loss   cls_loss   dfl_loss  Instances       Size\n"
          ]
        },
        {
          "output_type": "stream",
          "name": "stderr",
          "text": [
            "     74/600      7.19G     0.6005     0.3777     0.8536        244        640: 100%|██████████| 17/17 [00:08<00:00,  1.90it/s]\n",
            "                 Class     Images  Instances      Box(P          R      mAP50  mAP50-95): 100%|██████████| 2/2 [00:00<00:00,  2.88it/s]"
          ]
        },
        {
          "output_type": "stream",
          "name": "stdout",
          "text": [
            "                   all         45        558      0.853      0.788      0.867      0.686\n"
          ]
        },
        {
          "output_type": "stream",
          "name": "stderr",
          "text": [
            "\n"
          ]
        },
        {
          "output_type": "stream",
          "name": "stdout",
          "text": [
            "\n",
            "      Epoch    GPU_mem   box_loss   cls_loss   dfl_loss  Instances       Size\n"
          ]
        },
        {
          "output_type": "stream",
          "name": "stderr",
          "text": [
            "     75/600      7.14G     0.6044     0.3713     0.8529        272        640: 100%|██████████| 17/17 [00:09<00:00,  1.70it/s]\n",
            "                 Class     Images  Instances      Box(P          R      mAP50  mAP50-95): 100%|██████████| 2/2 [00:01<00:00,  1.85it/s]"
          ]
        },
        {
          "output_type": "stream",
          "name": "stdout",
          "text": [
            "                   all         45        558      0.821      0.799      0.867      0.679\n"
          ]
        },
        {
          "output_type": "stream",
          "name": "stderr",
          "text": [
            "\n"
          ]
        },
        {
          "output_type": "stream",
          "name": "stdout",
          "text": [
            "\n",
            "      Epoch    GPU_mem   box_loss   cls_loss   dfl_loss  Instances       Size\n"
          ]
        },
        {
          "output_type": "stream",
          "name": "stderr",
          "text": [
            "     76/600      7.26G     0.6074      0.374     0.8485        197        640: 100%|██████████| 17/17 [00:08<00:00,  1.92it/s]\n",
            "                 Class     Images  Instances      Box(P          R      mAP50  mAP50-95): 100%|██████████| 2/2 [00:00<00:00,  2.27it/s]"
          ]
        },
        {
          "output_type": "stream",
          "name": "stdout",
          "text": [
            "                   all         45        558      0.808      0.837      0.859      0.676\n"
          ]
        },
        {
          "output_type": "stream",
          "name": "stderr",
          "text": [
            "\n"
          ]
        },
        {
          "output_type": "stream",
          "name": "stdout",
          "text": [
            "\n",
            "      Epoch    GPU_mem   box_loss   cls_loss   dfl_loss  Instances       Size\n"
          ]
        },
        {
          "output_type": "stream",
          "name": "stderr",
          "text": [
            "     77/600      7.25G     0.6152     0.3744     0.8525        229        640: 100%|██████████| 17/17 [00:10<00:00,  1.63it/s]\n",
            "                 Class     Images  Instances      Box(P          R      mAP50  mAP50-95): 100%|██████████| 2/2 [00:00<00:00,  2.88it/s]"
          ]
        },
        {
          "output_type": "stream",
          "name": "stdout",
          "text": [
            "                   all         45        558      0.827      0.798      0.863      0.686\n"
          ]
        },
        {
          "output_type": "stream",
          "name": "stderr",
          "text": [
            "\n"
          ]
        },
        {
          "output_type": "stream",
          "name": "stdout",
          "text": [
            "\n",
            "      Epoch    GPU_mem   box_loss   cls_loss   dfl_loss  Instances       Size\n"
          ]
        },
        {
          "output_type": "stream",
          "name": "stderr",
          "text": [
            "     78/600      7.25G     0.5995     0.3674     0.8542        308        640: 100%|██████████| 17/17 [00:08<00:00,  1.89it/s]\n",
            "                 Class     Images  Instances      Box(P          R      mAP50  mAP50-95): 100%|██████████| 2/2 [00:00<00:00,  2.10it/s]"
          ]
        },
        {
          "output_type": "stream",
          "name": "stdout",
          "text": [
            "                   all         45        558       0.79      0.821      0.863      0.695\n"
          ]
        },
        {
          "output_type": "stream",
          "name": "stderr",
          "text": [
            "\n"
          ]
        },
        {
          "output_type": "stream",
          "name": "stdout",
          "text": [
            "\n",
            "      Epoch    GPU_mem   box_loss   cls_loss   dfl_loss  Instances       Size\n"
          ]
        },
        {
          "output_type": "stream",
          "name": "stderr",
          "text": [
            "     79/600      7.32G     0.6059     0.3734     0.8533        245        640: 100%|██████████| 17/17 [00:09<00:00,  1.74it/s]\n",
            "                 Class     Images  Instances      Box(P          R      mAP50  mAP50-95): 100%|██████████| 2/2 [00:00<00:00,  2.96it/s]"
          ]
        },
        {
          "output_type": "stream",
          "name": "stdout",
          "text": [
            "                   all         45        558      0.868      0.803      0.882      0.699\n"
          ]
        },
        {
          "output_type": "stream",
          "name": "stderr",
          "text": [
            "\n"
          ]
        },
        {
          "output_type": "stream",
          "name": "stdout",
          "text": [
            "\n",
            "      Epoch    GPU_mem   box_loss   cls_loss   dfl_loss  Instances       Size\n"
          ]
        },
        {
          "output_type": "stream",
          "name": "stderr",
          "text": [
            "     80/600      7.18G     0.6022      0.365     0.8592        239        640: 100%|██████████| 17/17 [00:09<00:00,  1.83it/s]\n",
            "                 Class     Images  Instances      Box(P          R      mAP50  mAP50-95): 100%|██████████| 2/2 [00:00<00:00,  2.00it/s]"
          ]
        },
        {
          "output_type": "stream",
          "name": "stdout",
          "text": [
            "                   all         45        558      0.852      0.806      0.878      0.707\n"
          ]
        },
        {
          "output_type": "stream",
          "name": "stderr",
          "text": [
            "\n"
          ]
        },
        {
          "output_type": "stream",
          "name": "stdout",
          "text": [
            "\n",
            "      Epoch    GPU_mem   box_loss   cls_loss   dfl_loss  Instances       Size\n"
          ]
        },
        {
          "output_type": "stream",
          "name": "stderr",
          "text": [
            "     81/600      7.13G     0.5967     0.3705     0.8554        248        640: 100%|██████████| 17/17 [00:09<00:00,  1.81it/s]\n",
            "                 Class     Images  Instances      Box(P          R      mAP50  mAP50-95): 100%|██████████| 2/2 [00:00<00:00,  2.84it/s]"
          ]
        },
        {
          "output_type": "stream",
          "name": "stdout",
          "text": [
            "                   all         45        558      0.849      0.822      0.889      0.711\n"
          ]
        },
        {
          "output_type": "stream",
          "name": "stderr",
          "text": [
            "\n"
          ]
        },
        {
          "output_type": "stream",
          "name": "stdout",
          "text": [
            "\n",
            "      Epoch    GPU_mem   box_loss   cls_loss   dfl_loss  Instances       Size\n"
          ]
        },
        {
          "output_type": "stream",
          "name": "stderr",
          "text": [
            "     82/600      7.18G     0.5986     0.3622     0.8455        248        640: 100%|██████████| 17/17 [00:09<00:00,  1.79it/s]\n",
            "                 Class     Images  Instances      Box(P          R      mAP50  mAP50-95): 100%|██████████| 2/2 [00:01<00:00,  1.81it/s]"
          ]
        },
        {
          "output_type": "stream",
          "name": "stdout",
          "text": [
            "                   all         45        558      0.845      0.812      0.872      0.702\n"
          ]
        },
        {
          "output_type": "stream",
          "name": "stderr",
          "text": [
            "\n"
          ]
        },
        {
          "output_type": "stream",
          "name": "stdout",
          "text": [
            "\n",
            "      Epoch    GPU_mem   box_loss   cls_loss   dfl_loss  Instances       Size\n"
          ]
        },
        {
          "output_type": "stream",
          "name": "stderr",
          "text": [
            "     83/600      7.26G     0.5738     0.3517      0.842        262        640: 100%|██████████| 17/17 [00:09<00:00,  1.84it/s]\n",
            "                 Class     Images  Instances      Box(P          R      mAP50  mAP50-95): 100%|██████████| 2/2 [00:00<00:00,  2.96it/s]\n"
          ]
        },
        {
          "output_type": "stream",
          "name": "stdout",
          "text": [
            "                   all         45        558      0.826      0.793      0.871      0.692\n",
            "\n",
            "      Epoch    GPU_mem   box_loss   cls_loss   dfl_loss  Instances       Size\n"
          ]
        },
        {
          "output_type": "stream",
          "name": "stderr",
          "text": [
            "     84/600       7.2G     0.5791     0.3603     0.8506        231        640: 100%|██████████| 17/17 [00:09<00:00,  1.73it/s]\n",
            "                 Class     Images  Instances      Box(P          R      mAP50  mAP50-95): 100%|██████████| 2/2 [00:00<00:00,  2.05it/s]"
          ]
        },
        {
          "output_type": "stream",
          "name": "stdout",
          "text": [
            "                   all         45        558      0.788      0.803      0.845      0.677\n"
          ]
        },
        {
          "output_type": "stream",
          "name": "stderr",
          "text": [
            "\n"
          ]
        },
        {
          "output_type": "stream",
          "name": "stdout",
          "text": [
            "\n",
            "      Epoch    GPU_mem   box_loss   cls_loss   dfl_loss  Instances       Size\n"
          ]
        },
        {
          "output_type": "stream",
          "name": "stderr",
          "text": [
            "     85/600      7.14G     0.5969     0.3624     0.8582        218        640: 100%|██████████| 17/17 [00:08<00:00,  1.94it/s]\n",
            "                 Class     Images  Instances      Box(P          R      mAP50  mAP50-95): 100%|██████████| 2/2 [00:00<00:00,  2.91it/s]"
          ]
        },
        {
          "output_type": "stream",
          "name": "stdout",
          "text": [
            "                   all         45        558      0.832      0.811      0.892      0.708\n"
          ]
        },
        {
          "output_type": "stream",
          "name": "stderr",
          "text": [
            "\n"
          ]
        },
        {
          "output_type": "stream",
          "name": "stdout",
          "text": [
            "\n",
            "      Epoch    GPU_mem   box_loss   cls_loss   dfl_loss  Instances       Size\n"
          ]
        },
        {
          "output_type": "stream",
          "name": "stderr",
          "text": [
            "     86/600      7.18G     0.6075     0.3642     0.8581        229        640: 100%|██████████| 17/17 [00:10<00:00,  1.63it/s]\n",
            "                 Class     Images  Instances      Box(P          R      mAP50  mAP50-95): 100%|██████████| 2/2 [00:00<00:00,  2.01it/s]"
          ]
        },
        {
          "output_type": "stream",
          "name": "stdout",
          "text": [
            "                   all         45        558      0.815      0.762      0.852      0.684\n"
          ]
        },
        {
          "output_type": "stream",
          "name": "stderr",
          "text": [
            "\n"
          ]
        },
        {
          "output_type": "stream",
          "name": "stdout",
          "text": [
            "\n",
            "      Epoch    GPU_mem   box_loss   cls_loss   dfl_loss  Instances       Size\n"
          ]
        },
        {
          "output_type": "stream",
          "name": "stderr",
          "text": [
            "     87/600      7.25G     0.5814     0.3649     0.8513        311        640: 100%|██████████| 17/17 [00:10<00:00,  1.69it/s]\n",
            "                 Class     Images  Instances      Box(P          R      mAP50  mAP50-95): 100%|██████████| 2/2 [00:01<00:00,  1.93it/s]"
          ]
        },
        {
          "output_type": "stream",
          "name": "stdout",
          "text": [
            "                   all         45        558      0.875      0.768      0.877      0.702\n",
            "\u001b[34m\u001b[1mEarlyStopping: \u001b[0mTraining stopped early as no improvement observed in last 20 epochs. Best results observed at epoch 67, best model saved as best.pt.\n",
            "To update EarlyStopping(patience=20) pass a new patience value, i.e. `patience=300` or use `patience=0` to disable EarlyStopping.\n"
          ]
        },
        {
          "output_type": "stream",
          "name": "stderr",
          "text": [
            "\n"
          ]
        },
        {
          "output_type": "stream",
          "name": "stdout",
          "text": [
            "\n",
            "87 epochs completed in 0.296 hours.\n",
            "Optimizer stripped from runs/detect/train3/weights/last.pt, 52.1MB\n",
            "Optimizer stripped from runs/detect/train3/weights/best.pt, 52.0MB\n",
            "\n",
            "Validating runs/detect/train3/weights/best.pt...\n",
            "Ultralytics YOLOv8.2.28 🚀 Python-3.10.12 torch-2.3.0+cu121 CUDA:0 (Tesla T4, 15102MiB)\n",
            "Model summary (fused): 218 layers, 25846708 parameters, 0 gradients, 78.7 GFLOPs\n"
          ]
        },
        {
          "output_type": "stream",
          "name": "stderr",
          "text": [
            "                 Class     Images  Instances      Box(P          R      mAP50  mAP50-95): 100%|██████████| 2/2 [00:01<00:00,  1.56it/s]\n"
          ]
        },
        {
          "output_type": "stream",
          "name": "stdout",
          "text": [
            "                   all         45        558      0.856      0.847      0.899      0.725\n",
            "          bishop-black         30         39      0.766      0.769      0.843      0.641\n",
            "          bishop-white         17         22      0.652      0.909      0.867      0.757\n",
            "            king-black         27         27          1       0.88       0.93      0.702\n",
            "            king-white         32         33      0.834      0.762      0.866      0.712\n",
            "          knight-black         20         32      0.968      0.969      0.988      0.768\n",
            "          knight-white         29         46      0.931      0.913      0.957       0.76\n",
            "            pawn-black         32        114      0.941      0.834      0.956      0.737\n",
            "            pawn-white         31        118          1      0.799      0.964      0.796\n",
            "           queen-black         28         28      0.672      0.929      0.815      0.671\n",
            "           queen-white         31         31      0.733          1      0.904      0.778\n",
            "            rook-black         24         33       0.86      0.818      0.838      0.645\n",
            "            rook-white         22         35      0.911      0.586      0.861      0.739\n",
            "Speed: 0.2ms preprocess, 10.6ms inference, 0.0ms loss, 3.7ms postprocess per image\n",
            "Results saved to \u001b[1mruns/detect/train3\u001b[0m\n",
            "Ultralytics YOLOv8.2.28 🚀 Python-3.10.12 torch-2.3.0+cu121 CUDA:0 (Tesla T4, 15102MiB)\n",
            "Model summary (fused): 218 layers, 25846708 parameters, 0 gradients, 78.7 GFLOPs\n"
          ]
        },
        {
          "output_type": "stream",
          "name": "stderr",
          "text": [
            "\u001b[34m\u001b[1mval: \u001b[0mScanning /content/datasets/chessPiecesDetection-6/valid/labels.cache... 45 images, 0 backgrounds, 0 corrupt: 100%|██████████| 45/45 [00:00<?, ?it/s]\n",
            "os.fork() was called. os.fork() is incompatible with multithreaded code, and JAX is multithreaded, so this will likely lead to a deadlock.\n",
            "                 Class     Images  Instances      Box(P          R      mAP50  mAP50-95): 100%|██████████| 3/3 [00:04<00:00,  1.49s/it]\n"
          ]
        },
        {
          "output_type": "stream",
          "name": "stdout",
          "text": [
            "                   all         45        558      0.843      0.858      0.899      0.725\n",
            "          bishop-black         30         39      0.753      0.784      0.844      0.637\n",
            "          bishop-white         17         22      0.631      0.909      0.867      0.754\n",
            "            king-black         27         27      0.991      0.889       0.93      0.701\n",
            "            king-white         32         33      0.798      0.788      0.866       0.71\n",
            "          knight-black         20         32      0.955      0.969      0.988      0.764\n",
            "          knight-white         29         46      0.942      0.913      0.958      0.761\n",
            "            pawn-black         32        114      0.942      0.856      0.956      0.736\n",
            "            pawn-white         31        118      0.993      0.814      0.966      0.804\n",
            "           queen-black         28         28      0.646      0.929      0.815      0.672\n",
            "           queen-white         31         31      0.717          1      0.904      0.778\n",
            "            rook-black         24         33      0.826      0.818      0.838      0.641\n",
            "            rook-white         22         35      0.916      0.626      0.863       0.74\n",
            "Speed: 0.9ms preprocess, 47.9ms inference, 0.0ms loss, 7.8ms postprocess per image\n",
            "Results saved to \u001b[1mruns/detect/train32\u001b[0m\n"
          ]
        }
      ],
      "source": [
        "# Check the selected mode and initialize the corresponding YOLO model.\n",
        "if mode == 'yolov9':\n",
        "    model = YOLO('yolov9e.pt')  # Initialize YOLOv9 with the specified weights file.\n",
        "elif mode == 'yolov8':\n",
        "    model = YOLO('yolov8m.pt')  # Initialize YOLOv8 with the specified weights file.\n",
        "else:\n",
        "    print(f\"Set up config var mode correctly.\")  # Prompt to set the mode variable correctly if it's not 'yolov9' or 'yolov8'.\n",
        "\n",
        "# Train the model with specified parameters.\n",
        "model.train(data=config_path,   # Path to the YAML file with dataset paths.\n",
        "            save=True,             # Enable saving the final model weights.\n",
        "            epochs=EPOCHS,         # Number of epochs to train the model.\n",
        "            device=DEVICE,          # Device setup\n",
        "            patience=PATIENCE,     # Early stopping patience.\n",
        "            batch=BATCH_TRAINING,  # Batch size for training.\n",
        "            imgsz=IMGSZ,           # Input image size.\n",
        "            lr0=LR0,               # Initial learning rate.\n",
        "            lrf=LRF)               # Final learning rate.\n",
        "\n",
        "# Evaluate the model and compute the validation metrics.\n",
        "metrics = model.val()\n",
        "\n",
        "# Save the computed metrics to a text file.\n",
        "with open(f'{mode}_base_model_metrics.txt', 'w') as f:\n",
        "    f.write(f\"mAP 50-95: {metrics.box.map}\\n\")   # Write mAP at IoU=50:95.\n",
        "    f.write(f\"mAP 50: {metrics.box.map50}\\n\")    # Write mAP at IoU=50.\n",
        "    f.write(f\"mAP 75: {metrics.box.map75}\\n\")    # Write mAP at IoU=75.\n",
        "    f.write(f\"Category-wise mAP 50-95: {metrics.box.maps}\\n\")  # Write list of mAP50-95 for each category.\n"
      ]
    },
    {
      "cell_type": "markdown",
      "metadata": {
        "id": "ARu-h3O7Sb0Q"
      },
      "source": [
        "## Inference of initial trained model"
      ]
    },
    {
      "cell_type": "code",
      "execution_count": null,
      "metadata": {
        "collapsed": true,
        "id": "k0-XI_FHSdxA",
        "colab": {
          "base_uri": "https://localhost:8080/"
        },
        "outputId": "3272492d-0021-452c-e935-ac760c6ae00e"
      },
      "outputs": [
        {
          "output_type": "stream",
          "name": "stdout",
          "text": [
            "\n",
            "image 1/15 /content/datasets/chessPiecesDetection-6/test/images/1714384189053_jpg.rf.c62ea4d3eb886a39ec868ad23c98be65.jpg: 640x640 2 bishop-whites, 1 king-black, 1 king-white, 2 knight-whites, 6 pawn-blacks, 7 pawn-whites, 2 queen-blacks, 1 queen-white, 2 rook-blacks, 1 rook-white, 37.2ms\n",
            "image 2/15 /content/datasets/chessPiecesDetection-6/test/images/1714384189080_jpg.rf.7550d439748821e919d0cbcaa7a5c754.jpg: 640x640 3 bishop-whites, 1 king-black, 1 king-white, 1 knight-black, 1 knight-white, 2 pawn-blacks, 1 pawn-white, 1 queen-white, 2 rook-blacks, 1 rook-white, 37.1ms\n",
            "image 3/15 /content/datasets/chessPiecesDetection-6/test/images/1714384189179_jpg.rf.dd476d08691f6df709412926ea8aa738.jpg: 640x640 2 bishop-blacks, 4 bishop-whites, 2 knight-whites, 1 pawn-black, 1 queen-black, 1 queen-white, 1 rook-white, 34.2ms\n",
            "image 4/15 /content/datasets/chessPiecesDetection-6/test/images/1714384189214_jpg.rf.a8f3a13abca056f0a2f271d963e599c9.jpg: 640x640 2 bishop-blacks, 1 bishop-white, 1 king-black, 1 king-white, 2 knight-blacks, 1 knight-white, 1 queen-black, 1 queen-white, 1 rook-black, 1 rook-white, 34.2ms\n",
            "image 5/15 /content/datasets/chessPiecesDetection-6/test/images/1714384189268_jpg.rf.98657ecafdb118a5e600446967d05f62.jpg: 640x640 2 bishop-blacks, 1 bishop-white, 1 king-black, 1 king-white, 2 knight-blacks, 2 knight-whites, 1 queen-black, 1 queen-white, 2 rook-blacks, 1 rook-white, 34.1ms\n",
            "image 6/15 /content/datasets/chessPiecesDetection-6/test/images/1714384189405_jpg.rf.ef18c09f6fd4ae32163b18dc09db3528.jpg: 640x640 2 knight-blacks, 2 knight-whites, 1 rook-black, 27.4ms\n",
            "image 7/15 /content/datasets/chessPiecesDetection-6/test/images/1714384189433_jpg.rf.af5ab2edbcbf9dc4eff1cb14c8892af6.jpg: 640x640 3 bishop-blacks, 4 bishop-whites, 1 king-black, 2 knight-blacks, 2 knight-whites, 5 pawn-blacks, 6 pawn-whites, 2 queen-blacks, 1 queen-white, 1 rook-black, 27.5ms\n",
            "image 8/15 /content/datasets/chessPiecesDetection-6/test/images/1714384189555_jpg.rf.ab20499b2fab4eb2cf3b2e37c7bbe5f5.jpg: 640x640 2 bishop-blacks, 2 bishop-whites, 1 king-white, 1 knight-black, 1 knight-white, 3 pawn-blacks, 1 pawn-white, 1 queen-black, 1 queen-white, 2 rook-blacks, 27.4ms\n",
            "image 9/15 /content/datasets/chessPiecesDetection-6/test/images/1714384189599_jpg.rf.c017ea51b3207e0142047dac4a162fc3.jpg: 640x640 1 bishop-black, 2 bishop-whites, 1 king-white, 2 pawn-blacks, 2 pawn-whites, 1 queen-white, 1 rook-black, 1 rook-white, 26.4ms\n",
            "image 10/15 /content/datasets/chessPiecesDetection-6/test/images/1714384189611_jpg.rf.6ca1ce13406304931332709e99c9e19a.jpg: 640x640 1 bishop-black, 1 king-white, 3 pawn-blacks, 3 pawn-whites, 1 rook-black, 3 rook-whites, 26.4ms\n",
            "image 11/15 /content/datasets/chessPiecesDetection-6/test/images/1714384189621_jpg.rf.508677d760eac1c7b267e2463e411312.jpg: 640x640 2 knight-whites, 1 pawn-white, 2 queen-whites, 1 rook-black, 26.4ms\n",
            "image 12/15 /content/datasets/chessPiecesDetection-6/test/images/1714395096695_jpg.rf.b2e0f4a0592d4e19b2cb626a9f0a8475.jpg: 640x640 1 bishop-black, 2 king-blacks, 3 king-whites, 1 knight-white, 2 queen-blacks, 25.5ms\n",
            "image 13/15 /content/datasets/chessPiecesDetection-6/test/images/1714395096705_jpg.rf.b25180e3b0aa27d77b1dc05a27a70caa.jpg: 640x640 1 bishop-black, 1 bishop-white, 1 king-black, 1 king-white, 1 knight-black, 2 knight-whites, 2 queen-blacks, 1 queen-white, 23.2ms\n",
            "image 14/15 /content/datasets/chessPiecesDetection-6/test/images/1714395096758_jpg.rf.f3a7443d32c43e0b400fff3574eef3b6.jpg: 640x640 2 bishop-blacks, 1 king-black, 1 king-white, 2 knight-whites, 1 pawn-black, 1 pawn-white, 1 queen-black, 22.4ms\n",
            "image 15/15 /content/datasets/chessPiecesDetection-6/test/images/1714395097021_jpg.rf.7acc47771604b838fb10b478d27ad1a1.jpg: 640x640 1 bishop-black, 1 king-black, 1 king-white, 2 knight-blacks, 2 knight-whites, 1 queen-black, 1 queen-white, 22.4ms\n",
            "Speed: 2.2ms preprocess, 28.8ms inference, 2.1ms postprocess per image at shape (1, 3, 640, 640)\n",
            "Results saved to \u001b[1mruns/detect/train33\u001b[0m\n"
          ]
        },
        {
          "output_type": "execute_result",
          "data": {
            "text/plain": [
              "[ultralytics.engine.results.Results object with attributes:\n",
              " \n",
              " boxes: ultralytics.engine.results.Boxes object\n",
              " keypoints: None\n",
              " masks: None\n",
              " names: {0: 'bishop-black', 1: 'bishop-white', 2: 'king-black', 3: 'king-white', 4: 'knight-black', 5: 'knight-white', 6: 'pawn-black', 7: 'pawn-white', 8: 'queen-black', 9: 'queen-white', 10: 'rook-black', 11: 'rook-white'}\n",
              " obb: None\n",
              " orig_img: array([[[255, 252, 247],\n",
              "         [255, 252, 247],\n",
              "         [255, 252, 247],\n",
              "         ...,\n",
              "         [  0,  32,  98],\n",
              "         [  4,  33, 102],\n",
              "         [ 26,  51, 123]],\n",
              " \n",
              "        [[255, 252, 247],\n",
              "         [255, 252, 247],\n",
              "         [255, 252, 247],\n",
              "         ...,\n",
              "         [  0,  33,  99],\n",
              "         [  3,  34, 103],\n",
              "         [ 29,  58, 127]],\n",
              " \n",
              "        [[255, 252, 247],\n",
              "         [255, 252, 247],\n",
              "         [255, 252, 247],\n",
              "         ...,\n",
              "         [  0,  30,  95],\n",
              "         [  0,  28,  92],\n",
              "         [ 24,  59, 123]],\n",
              " \n",
              "        ...,\n",
              " \n",
              "        [[234, 238, 233],\n",
              "         [234, 238, 233],\n",
              "         [234, 238, 233],\n",
              "         ...,\n",
              "         [  3,  20,  41],\n",
              "         [ 70,  91, 113],\n",
              "         [ 94, 118, 140]],\n",
              " \n",
              "        [[234, 238, 233],\n",
              "         [234, 238, 233],\n",
              "         [234, 238, 233],\n",
              "         ...,\n",
              "         [  3,  20,  41],\n",
              "         [ 69,  90, 112],\n",
              "         [ 92, 116, 138]],\n",
              " \n",
              "        [[234, 238, 233],\n",
              "         [234, 238, 233],\n",
              "         [234, 238, 233],\n",
              "         ...,\n",
              "         [  4,  21,  42],\n",
              "         [ 68,  89, 111],\n",
              "         [ 90, 114, 136]]], dtype=uint8)\n",
              " orig_shape: (640, 640)\n",
              " path: '/content/datasets/chessPiecesDetection-6/test/images/1714384189053_jpg.rf.c62ea4d3eb886a39ec868ad23c98be65.jpg'\n",
              " probs: None\n",
              " save_dir: 'runs/detect/train33'\n",
              " speed: {'preprocess': 3.220081329345703, 'inference': 37.19782829284668, 'postprocess': 2.1047592163085938},\n",
              " ultralytics.engine.results.Results object with attributes:\n",
              " \n",
              " boxes: ultralytics.engine.results.Boxes object\n",
              " keypoints: None\n",
              " masks: None\n",
              " names: {0: 'bishop-black', 1: 'bishop-white', 2: 'king-black', 3: 'king-white', 4: 'knight-black', 5: 'knight-white', 6: 'pawn-black', 7: 'pawn-white', 8: 'queen-black', 9: 'queen-white', 10: 'rook-black', 11: 'rook-white'}\n",
              " obb: None\n",
              " orig_img: array([[[197, 202, 205],\n",
              "         [199, 204, 207],\n",
              "         [200, 205, 208],\n",
              "         ...,\n",
              "         [ 96, 105, 115],\n",
              "         [ 97, 107, 117],\n",
              "         [ 98, 108, 118]],\n",
              " \n",
              "        [[195, 200, 203],\n",
              "         [197, 202, 205],\n",
              "         [199, 204, 207],\n",
              "         ...,\n",
              "         [ 96, 105, 115],\n",
              "         [ 97, 107, 117],\n",
              "         [ 98, 108, 118]],\n",
              " \n",
              "        [[194, 199, 202],\n",
              "         [196, 201, 204],\n",
              "         [198, 203, 206],\n",
              "         ...,\n",
              "         [ 96, 105, 115],\n",
              "         [ 97, 106, 116],\n",
              "         [ 99, 108, 118]],\n",
              " \n",
              "        ...,\n",
              " \n",
              "        [[  4,  13,  51],\n",
              "         [  4,  13,  51],\n",
              "         [  3,  12,  50],\n",
              "         ...,\n",
              "         [ 68, 103, 147],\n",
              "         [ 70, 105, 148],\n",
              "         [ 71, 106, 149]],\n",
              " \n",
              "        [[  6,  11,  42],\n",
              "         [  6,  11,  42],\n",
              "         [  7,  12,  45],\n",
              "         ...,\n",
              "         [ 85, 121, 157],\n",
              "         [ 87, 124, 158],\n",
              "         [ 89, 126, 160]],\n",
              " \n",
              "        [[ 11,  15,  43],\n",
              "         [ 11,  15,  43],\n",
              "         [ 11,  15,  44],\n",
              "         ...,\n",
              "         [101, 139, 171],\n",
              "         [105, 141, 171],\n",
              "         [106, 142, 172]]], dtype=uint8)\n",
              " orig_shape: (640, 640)\n",
              " path: '/content/datasets/chessPiecesDetection-6/test/images/1714384189080_jpg.rf.7550d439748821e919d0cbcaa7a5c754.jpg'\n",
              " probs: None\n",
              " save_dir: 'runs/detect/train33'\n",
              " speed: {'preprocess': 2.2034645080566406, 'inference': 37.136077880859375, 'postprocess': 3.2880306243896484},\n",
              " ultralytics.engine.results.Results object with attributes:\n",
              " \n",
              " boxes: ultralytics.engine.results.Boxes object\n",
              " keypoints: None\n",
              " masks: None\n",
              " names: {0: 'bishop-black', 1: 'bishop-white', 2: 'king-black', 3: 'king-white', 4: 'knight-black', 5: 'knight-white', 6: 'pawn-black', 7: 'pawn-white', 8: 'queen-black', 9: 'queen-white', 10: 'rook-black', 11: 'rook-white'}\n",
              " obb: None\n",
              " orig_img: array([[[  8,   8,  14],\n",
              "         [  8,   8,  14],\n",
              "         [  8,   8,  14],\n",
              "         ...,\n",
              "         [255, 252, 247],\n",
              "         [255, 252, 247],\n",
              "         [255, 252, 247]],\n",
              " \n",
              "        [[  8,   8,  14],\n",
              "         [  8,   8,  14],\n",
              "         [  7,   7,  13],\n",
              "         ...,\n",
              "         [255, 252, 247],\n",
              "         [255, 252, 247],\n",
              "         [255, 252, 247]],\n",
              " \n",
              "        [[  7,   7,  13],\n",
              "         [  7,   7,  13],\n",
              "         [  7,   7,  13],\n",
              "         ...,\n",
              "         [255, 252, 247],\n",
              "         [255, 252, 247],\n",
              "         [255, 252, 247]],\n",
              " \n",
              "        ...,\n",
              " \n",
              "        [[ 73, 111, 143],\n",
              "         [ 73, 111, 143],\n",
              "         [ 71, 109, 141],\n",
              "         ...,\n",
              "         [ 65,  80, 136],\n",
              "         [ 63,  78, 134],\n",
              "         [ 65,  80, 136]],\n",
              " \n",
              "        [[ 69, 107, 139],\n",
              "         [ 69, 107, 139],\n",
              "         [ 68, 106, 138],\n",
              "         ...,\n",
              "         [ 71,  86, 142],\n",
              "         [ 70,  85, 141],\n",
              "         [ 72,  87, 143]],\n",
              " \n",
              "        [[ 66, 104, 136],\n",
              "         [ 65, 103, 135],\n",
              "         [ 65, 103, 135],\n",
              "         ...,\n",
              "         [ 69,  84, 140],\n",
              "         [ 70,  85, 141],\n",
              "         [ 73,  88, 144]]], dtype=uint8)\n",
              " orig_shape: (640, 640)\n",
              " path: '/content/datasets/chessPiecesDetection-6/test/images/1714384189179_jpg.rf.dd476d08691f6df709412926ea8aa738.jpg'\n",
              " probs: None\n",
              " save_dir: 'runs/detect/train33'\n",
              " speed: {'preprocess': 2.1266937255859375, 'inference': 34.17468070983887, 'postprocess': 1.7709732055664062},\n",
              " ultralytics.engine.results.Results object with attributes:\n",
              " \n",
              " boxes: ultralytics.engine.results.Boxes object\n",
              " keypoints: None\n",
              " masks: None\n",
              " names: {0: 'bishop-black', 1: 'bishop-white', 2: 'king-black', 3: 'king-white', 4: 'knight-black', 5: 'knight-white', 6: 'pawn-black', 7: 'pawn-white', 8: 'queen-black', 9: 'queen-white', 10: 'rook-black', 11: 'rook-white'}\n",
              " obb: None\n",
              " orig_img: array([[[238, 237, 239],\n",
              "         [238, 237, 239],\n",
              "         [238, 237, 239],\n",
              "         ...,\n",
              "         [ 86,  99, 167],\n",
              "         [104, 117, 185],\n",
              "         [ 80,  93, 161]],\n",
              " \n",
              "        [[238, 237, 239],\n",
              "         [238, 237, 239],\n",
              "         [238, 237, 239],\n",
              "         ...,\n",
              "         [ 87, 100, 168],\n",
              "         [ 96, 109, 177],\n",
              "         [ 80,  93, 161]],\n",
              " \n",
              "        [[238, 237, 239],\n",
              "         [238, 237, 239],\n",
              "         [238, 237, 239],\n",
              "         ...,\n",
              "         [ 84,  97, 165],\n",
              "         [ 78,  91, 159],\n",
              "         [ 76,  89, 157]],\n",
              " \n",
              "        ...,\n",
              " \n",
              "        [[106, 136, 213],\n",
              "         [106, 136, 213],\n",
              "         [106, 137, 212],\n",
              "         ...,\n",
              "         [ 21,  45, 145],\n",
              "         [ 19,  43, 143],\n",
              "         [ 13,  37, 137]],\n",
              " \n",
              "        [[106, 136, 213],\n",
              "         [106, 136, 213],\n",
              "         [106, 136, 213],\n",
              "         ...,\n",
              "         [ 22,  46, 146],\n",
              "         [ 20,  44, 144],\n",
              "         [ 14,  38, 138]],\n",
              " \n",
              "        [[106, 136, 213],\n",
              "         [107, 137, 214],\n",
              "         [108, 138, 215],\n",
              "         ...,\n",
              "         [ 22,  46, 146],\n",
              "         [ 20,  44, 144],\n",
              "         [ 14,  38, 138]]], dtype=uint8)\n",
              " orig_shape: (640, 640)\n",
              " path: '/content/datasets/chessPiecesDetection-6/test/images/1714384189214_jpg.rf.a8f3a13abca056f0a2f271d963e599c9.jpg'\n",
              " probs: None\n",
              " save_dir: 'runs/detect/train33'\n",
              " speed: {'preprocess': 1.7180442810058594, 'inference': 34.17849540710449, 'postprocess': 1.8830299377441406},\n",
              " ultralytics.engine.results.Results object with attributes:\n",
              " \n",
              " boxes: ultralytics.engine.results.Boxes object\n",
              " keypoints: None\n",
              " masks: None\n",
              " names: {0: 'bishop-black', 1: 'bishop-white', 2: 'king-black', 3: 'king-white', 4: 'knight-black', 5: 'knight-white', 6: 'pawn-black', 7: 'pawn-white', 8: 'queen-black', 9: 'queen-white', 10: 'rook-black', 11: 'rook-white'}\n",
              " obb: None\n",
              " orig_img: array([[[230, 233, 231],\n",
              "         [230, 233, 231],\n",
              "         [230, 233, 231],\n",
              "         ...,\n",
              "         [ 40,  72, 131],\n",
              "         [ 40,  72, 131],\n",
              "         [ 39,  71, 130]],\n",
              " \n",
              "        [[230, 233, 231],\n",
              "         [230, 233, 231],\n",
              "         [230, 233, 231],\n",
              "         ...,\n",
              "         [ 43,  75, 134],\n",
              "         [ 42,  74, 133],\n",
              "         [ 41,  73, 132]],\n",
              " \n",
              "        [[230, 233, 231],\n",
              "         [230, 233, 231],\n",
              "         [230, 233, 231],\n",
              "         ...,\n",
              "         [ 45,  77, 136],\n",
              "         [ 44,  76, 135],\n",
              "         [ 43,  75, 134]],\n",
              " \n",
              "        ...,\n",
              " \n",
              "        [[  0,  20, 142],\n",
              "         [  4,  25, 147],\n",
              "         [  0,   7, 132],\n",
              "         ...,\n",
              "         [ 11,  75, 159],\n",
              "         [ 11,  75, 160],\n",
              "         [  4,  68, 153]],\n",
              " \n",
              "        [[  0,  20, 142],\n",
              "         [  7,  28, 150],\n",
              "         [  0,  10, 135],\n",
              "         ...,\n",
              "         [ 18,  80, 164],\n",
              "         [ 18,  79, 165],\n",
              "         [  5,  66, 152]],\n",
              " \n",
              "        [[  0,  20, 142],\n",
              "         [  9,  32, 154],\n",
              "         [  0,  17, 142],\n",
              "         ...,\n",
              "         [ 32,  94, 178],\n",
              "         [ 34,  93, 179],\n",
              "         [ 16,  75, 161]]], dtype=uint8)\n",
              " orig_shape: (640, 640)\n",
              " path: '/content/datasets/chessPiecesDetection-6/test/images/1714384189268_jpg.rf.98657ecafdb118a5e600446967d05f62.jpg'\n",
              " probs: None\n",
              " save_dir: 'runs/detect/train33'\n",
              " speed: {'preprocess': 1.6951560974121094, 'inference': 34.12938117980957, 'postprocess': 1.705169677734375},\n",
              " ultralytics.engine.results.Results object with attributes:\n",
              " \n",
              " boxes: ultralytics.engine.results.Boxes object\n",
              " keypoints: None\n",
              " masks: None\n",
              " names: {0: 'bishop-black', 1: 'bishop-white', 2: 'king-black', 3: 'king-white', 4: 'knight-black', 5: 'knight-white', 6: 'pawn-black', 7: 'pawn-white', 8: 'queen-black', 9: 'queen-white', 10: 'rook-black', 11: 'rook-white'}\n",
              " obb: None\n",
              " orig_img: array([[[ 37,  95, 170],\n",
              "         [ 37,  95, 170],\n",
              "         [ 37,  96, 168],\n",
              "         ...,\n",
              "         [251, 253, 254],\n",
              "         [251, 253, 254],\n",
              "         [251, 253, 254]],\n",
              " \n",
              "        [[ 34,  92, 167],\n",
              "         [ 35,  93, 168],\n",
              "         [ 37,  96, 168],\n",
              "         ...,\n",
              "         [251, 253, 254],\n",
              "         [251, 253, 254],\n",
              "         [251, 253, 254]],\n",
              " \n",
              "        [[ 34,  92, 167],\n",
              "         [ 36,  94, 169],\n",
              "         [ 39,  97, 172],\n",
              "         ...,\n",
              "         [251, 253, 254],\n",
              "         [251, 253, 254],\n",
              "         [251, 253, 254]],\n",
              " \n",
              "        ...,\n",
              " \n",
              "        [[ 62, 142, 207],\n",
              "         [ 65, 145, 210],\n",
              "         [ 66, 146, 211],\n",
              "         ...,\n",
              "         [112, 152, 210],\n",
              "         [110, 148, 206],\n",
              "         [107, 145, 203]],\n",
              " \n",
              "        [[ 58, 138, 203],\n",
              "         [ 63, 143, 208],\n",
              "         [ 66, 146, 211],\n",
              "         ...,\n",
              "         [115, 155, 213],\n",
              "         [114, 152, 210],\n",
              "         [112, 150, 208]],\n",
              " \n",
              "        [[ 52, 132, 197],\n",
              "         [ 59, 139, 204],\n",
              "         [ 64, 144, 209],\n",
              "         ...,\n",
              "         [115, 155, 213],\n",
              "         [115, 153, 211],\n",
              "         [114, 152, 210]]], dtype=uint8)\n",
              " orig_shape: (640, 640)\n",
              " path: '/content/datasets/chessPiecesDetection-6/test/images/1714384189405_jpg.rf.ef18c09f6fd4ae32163b18dc09db3528.jpg'\n",
              " probs: None\n",
              " save_dir: 'runs/detect/train33'\n",
              " speed: {'preprocess': 1.8315315246582031, 'inference': 27.426719665527344, 'postprocess': 1.8427371978759766},\n",
              " ultralytics.engine.results.Results object with attributes:\n",
              " \n",
              " boxes: ultralytics.engine.results.Boxes object\n",
              " keypoints: None\n",
              " masks: None\n",
              " names: {0: 'bishop-black', 1: 'bishop-white', 2: 'king-black', 3: 'king-white', 4: 'knight-black', 5: 'knight-white', 6: 'pawn-black', 7: 'pawn-white', 8: 'queen-black', 9: 'queen-white', 10: 'rook-black', 11: 'rook-white'}\n",
              " obb: None\n",
              " orig_img: array([[[244, 244, 238],\n",
              "         [244, 244, 238],\n",
              "         [245, 245, 239],\n",
              "         ...,\n",
              "         [127, 138, 142],\n",
              "         [121, 133, 135],\n",
              "         [129, 141, 143]],\n",
              " \n",
              "        [[244, 244, 238],\n",
              "         [244, 244, 238],\n",
              "         [244, 244, 238],\n",
              "         ...,\n",
              "         [127, 138, 142],\n",
              "         [121, 132, 136],\n",
              "         [129, 141, 143]],\n",
              " \n",
              "        [[243, 243, 237],\n",
              "         [243, 243, 237],\n",
              "         [243, 243, 237],\n",
              "         ...,\n",
              "         [126, 137, 141],\n",
              "         [121, 132, 136],\n",
              "         [129, 140, 144]],\n",
              " \n",
              "        ...,\n",
              " \n",
              "        [[  2,  19, 136],\n",
              "         [  6,  24, 141],\n",
              "         [  5,  28, 144],\n",
              "         ...,\n",
              "         [ 16,  85, 172],\n",
              "         [ 14,  81, 168],\n",
              "         [ 23,  87, 175]],\n",
              " \n",
              "        [[  0,  12, 130],\n",
              "         [  7,  24, 141],\n",
              "         [ 10,  33, 149],\n",
              "         ...,\n",
              "         [ 12,  81, 168],\n",
              "         [ 11,  78, 165],\n",
              "         [ 20,  87, 174]],\n",
              " \n",
              "        [[  0,   7, 125],\n",
              "         [  6,  23, 140],\n",
              "         [ 14,  37, 153],\n",
              "         ...,\n",
              "         [ 11,  80, 167],\n",
              "         [ 11,  78, 165],\n",
              "         [ 21,  88, 175]]], dtype=uint8)\n",
              " orig_shape: (640, 640)\n",
              " path: '/content/datasets/chessPiecesDetection-6/test/images/1714384189433_jpg.rf.af5ab2edbcbf9dc4eff1cb14c8892af6.jpg'\n",
              " probs: None\n",
              " save_dir: 'runs/detect/train33'\n",
              " speed: {'preprocess': 1.7962455749511719, 'inference': 27.461528778076172, 'postprocess': 1.9423961639404297},\n",
              " ultralytics.engine.results.Results object with attributes:\n",
              " \n",
              " boxes: ultralytics.engine.results.Boxes object\n",
              " keypoints: None\n",
              " masks: None\n",
              " names: {0: 'bishop-black', 1: 'bishop-white', 2: 'king-black', 3: 'king-white', 4: 'knight-black', 5: 'knight-white', 6: 'pawn-black', 7: 'pawn-white', 8: 'queen-black', 9: 'queen-white', 10: 'rook-black', 11: 'rook-white'}\n",
              " obb: None\n",
              " orig_img: array([[[225, 228, 232],\n",
              "         [225, 228, 232],\n",
              "         [225, 228, 232],\n",
              "         ...,\n",
              "         [ 66,  92, 128],\n",
              "         [ 58,  86, 121],\n",
              "         [ 53,  81, 116]],\n",
              " \n",
              "        [[225, 228, 232],\n",
              "         [225, 228, 232],\n",
              "         [225, 228, 232],\n",
              "         ...,\n",
              "         [ 69,  95, 131],\n",
              "         [ 61,  89, 124],\n",
              "         [ 57,  85, 120]],\n",
              " \n",
              "        [[225, 228, 232],\n",
              "         [225, 228, 232],\n",
              "         [225, 228, 232],\n",
              "         ...,\n",
              "         [ 70,  96, 132],\n",
              "         [ 63,  91, 126],\n",
              "         [ 58,  86, 121]],\n",
              " \n",
              "        ...,\n",
              " \n",
              "        [[ 44, 114, 198],\n",
              "         [ 45, 115, 199],\n",
              "         [ 47, 117, 201],\n",
              "         ...,\n",
              "         [ 18,  51, 148],\n",
              "         [ 20,  53, 150],\n",
              "         [ 33,  66, 163]],\n",
              " \n",
              "        [[ 41, 113, 197],\n",
              "         [ 42, 114, 198],\n",
              "         [ 43, 115, 199],\n",
              "         ...,\n",
              "         [ 16,  49, 146],\n",
              "         [ 16,  49, 146],\n",
              "         [ 32,  65, 162]],\n",
              " \n",
              "        [[ 41, 113, 197],\n",
              "         [ 41, 113, 197],\n",
              "         [ 42, 114, 198],\n",
              "         ...,\n",
              "         [ 15,  48, 145],\n",
              "         [ 11,  44, 141],\n",
              "         [ 28,  61, 158]]], dtype=uint8)\n",
              " orig_shape: (640, 640)\n",
              " path: '/content/datasets/chessPiecesDetection-6/test/images/1714384189555_jpg.rf.ab20499b2fab4eb2cf3b2e37c7bbe5f5.jpg'\n",
              " probs: None\n",
              " save_dir: 'runs/detect/train33'\n",
              " speed: {'preprocess': 1.7461776733398438, 'inference': 27.432918548583984, 'postprocess': 1.683950424194336},\n",
              " ultralytics.engine.results.Results object with attributes:\n",
              " \n",
              " boxes: ultralytics.engine.results.Boxes object\n",
              " keypoints: None\n",
              " masks: None\n",
              " names: {0: 'bishop-black', 1: 'bishop-white', 2: 'king-black', 3: 'king-white', 4: 'knight-black', 5: 'knight-white', 6: 'pawn-black', 7: 'pawn-white', 8: 'queen-black', 9: 'queen-white', 10: 'rook-black', 11: 'rook-white'}\n",
              " obb: None\n",
              " orig_img: array([[[211, 218, 221],\n",
              "         [211, 218, 221],\n",
              "         [211, 218, 221],\n",
              "         ...,\n",
              "         [110, 122, 146],\n",
              "         [109, 121, 145],\n",
              "         [109, 121, 145]],\n",
              " \n",
              "        [[211, 218, 221],\n",
              "         [211, 218, 221],\n",
              "         [211, 218, 221],\n",
              "         ...,\n",
              "         [108, 120, 144],\n",
              "         [108, 120, 144],\n",
              "         [108, 120, 144]],\n",
              " \n",
              "        [[211, 218, 221],\n",
              "         [211, 218, 221],\n",
              "         [211, 218, 221],\n",
              "         ...,\n",
              "         [106, 118, 142],\n",
              "         [105, 117, 141],\n",
              "         [105, 117, 141]],\n",
              " \n",
              "        ...,\n",
              " \n",
              "        [[  0,   9, 112],\n",
              "         [  7,  22, 125],\n",
              "         [  0,  13, 117],\n",
              "         ...,\n",
              "         [ 13,  51, 145],\n",
              "         [  9,  45, 139],\n",
              "         [  4,  40, 134]],\n",
              " \n",
              "        [[  0,  11, 114],\n",
              "         [  0,  15, 118],\n",
              "         [  0,  12, 116],\n",
              "         ...,\n",
              "         [ 12,  50, 144],\n",
              "         [ 12,  48, 142],\n",
              "         [ 10,  46, 140]],\n",
              " \n",
              "        [[  0,  14, 117],\n",
              "         [  0,  11, 114],\n",
              "         [  0,  11, 115],\n",
              "         ...,\n",
              "         [ 13,  51, 145],\n",
              "         [ 17,  53, 147],\n",
              "         [ 19,  55, 149]]], dtype=uint8)\n",
              " orig_shape: (640, 640)\n",
              " path: '/content/datasets/chessPiecesDetection-6/test/images/1714384189599_jpg.rf.c017ea51b3207e0142047dac4a162fc3.jpg'\n",
              " probs: None\n",
              " save_dir: 'runs/detect/train33'\n",
              " speed: {'preprocess': 3.854036331176758, 'inference': 26.388883590698242, 'postprocess': 3.778696060180664},\n",
              " ultralytics.engine.results.Results object with attributes:\n",
              " \n",
              " boxes: ultralytics.engine.results.Boxes object\n",
              " keypoints: None\n",
              " masks: None\n",
              " names: {0: 'bishop-black', 1: 'bishop-white', 2: 'king-black', 3: 'king-white', 4: 'knight-black', 5: 'knight-white', 6: 'pawn-black', 7: 'pawn-white', 8: 'queen-black', 9: 'queen-white', 10: 'rook-black', 11: 'rook-white'}\n",
              " obb: None\n",
              " orig_img: array([[[214, 220, 225],\n",
              "         [214, 220, 225],\n",
              "         [214, 220, 225],\n",
              "         ...,\n",
              "         [167, 179, 197],\n",
              "         [166, 176, 193],\n",
              "         [165, 175, 192]],\n",
              " \n",
              "        [[214, 220, 225],\n",
              "         [214, 220, 225],\n",
              "         [214, 220, 225],\n",
              "         ...,\n",
              "         [165, 177, 195],\n",
              "         [166, 176, 193],\n",
              "         [166, 176, 193]],\n",
              " \n",
              "        [[214, 220, 225],\n",
              "         [214, 220, 225],\n",
              "         [214, 220, 225],\n",
              "         ...,\n",
              "         [163, 175, 193],\n",
              "         [166, 176, 193],\n",
              "         [167, 177, 194]],\n",
              " \n",
              "        ...,\n",
              " \n",
              "        [[  0,  38, 147],\n",
              "         [  0,  34, 143],\n",
              "         [  0,  36, 145],\n",
              "         ...,\n",
              "         [  4,  44, 140],\n",
              "         [  5,  42, 140],\n",
              "         [  8,  45, 143]],\n",
              " \n",
              "        [[  2,  41, 150],\n",
              "         [  0,  36, 145],\n",
              "         [  0,  38, 147],\n",
              "         ...,\n",
              "         [  7,  47, 143],\n",
              "         [ 10,  47, 145],\n",
              "         [ 13,  50, 148]],\n",
              " \n",
              "        [[  6,  45, 154],\n",
              "         [  0,  39, 148],\n",
              "         [  0,  40, 149],\n",
              "         ...,\n",
              "         [ 13,  53, 149],\n",
              "         [ 18,  55, 153],\n",
              "         [ 23,  60, 158]]], dtype=uint8)\n",
              " orig_shape: (640, 640)\n",
              " path: '/content/datasets/chessPiecesDetection-6/test/images/1714384189611_jpg.rf.6ca1ce13406304931332709e99c9e19a.jpg'\n",
              " probs: None\n",
              " save_dir: 'runs/detect/train33'\n",
              " speed: {'preprocess': 1.7154216766357422, 'inference': 26.38864517211914, 'postprocess': 1.6791820526123047},\n",
              " ultralytics.engine.results.Results object with attributes:\n",
              " \n",
              " boxes: ultralytics.engine.results.Boxes object\n",
              " keypoints: None\n",
              " masks: None\n",
              " names: {0: 'bishop-black', 1: 'bishop-white', 2: 'king-black', 3: 'king-white', 4: 'knight-black', 5: 'knight-white', 6: 'pawn-black', 7: 'pawn-white', 8: 'queen-black', 9: 'queen-white', 10: 'rook-black', 11: 'rook-white'}\n",
              " obb: None\n",
              " orig_img: array([[[235, 238, 242],\n",
              "         [235, 238, 242],\n",
              "         [235, 238, 242],\n",
              "         ...,\n",
              "         [  7,  41, 111],\n",
              "         [  4,  37, 110],\n",
              "         [  3,  36, 109]],\n",
              " \n",
              "        [[235, 238, 242],\n",
              "         [235, 238, 242],\n",
              "         [235, 238, 242],\n",
              "         ...,\n",
              "         [  9,  43, 113],\n",
              "         [  8,  41, 114],\n",
              "         [  6,  39, 112]],\n",
              " \n",
              "        [[235, 238, 242],\n",
              "         [235, 238, 242],\n",
              "         [235, 238, 242],\n",
              "         ...,\n",
              "         [ 11,  45, 115],\n",
              "         [ 11,  44, 117],\n",
              "         [ 10,  43, 116]],\n",
              " \n",
              "        ...,\n",
              " \n",
              "        [[  0,   0,   0],\n",
              "         [  0,   0,   0],\n",
              "         [  0,   0,   0],\n",
              "         ...,\n",
              "         [  8,  48, 120],\n",
              "         [  7,  47, 119],\n",
              "         [  9,  49, 121]],\n",
              " \n",
              "        [[  0,   0,   0],\n",
              "         [  0,   0,   0],\n",
              "         [  0,   0,   0],\n",
              "         ...,\n",
              "         [ 13,  53, 125],\n",
              "         [  8,  48, 120],\n",
              "         [  8,  48, 120]],\n",
              " \n",
              "        [[  0,   0,   0],\n",
              "         [  0,   0,   0],\n",
              "         [  0,   0,   0],\n",
              "         ...,\n",
              "         [ 17,  57, 129],\n",
              "         [ 10,  50, 122],\n",
              "         [  8,  48, 120]]], dtype=uint8)\n",
              " orig_shape: (640, 640)\n",
              " path: '/content/datasets/chessPiecesDetection-6/test/images/1714384189621_jpg.rf.508677d760eac1c7b267e2463e411312.jpg'\n",
              " probs: None\n",
              " save_dir: 'runs/detect/train33'\n",
              " speed: {'preprocess': 1.6870498657226562, 'inference': 26.370763778686523, 'postprocess': 1.7545223236083984},\n",
              " ultralytics.engine.results.Results object with attributes:\n",
              " \n",
              " boxes: ultralytics.engine.results.Boxes object\n",
              " keypoints: None\n",
              " masks: None\n",
              " names: {0: 'bishop-black', 1: 'bishop-white', 2: 'king-black', 3: 'king-white', 4: 'knight-black', 5: 'knight-white', 6: 'pawn-black', 7: 'pawn-white', 8: 'queen-black', 9: 'queen-white', 10: 'rook-black', 11: 'rook-white'}\n",
              " obb: None\n",
              " orig_img: array([[[253, 254, 252],\n",
              "         [253, 254, 252],\n",
              "         [253, 254, 252],\n",
              "         ...,\n",
              "         [212, 227, 223],\n",
              "         [212, 227, 223],\n",
              "         [212, 227, 223]],\n",
              " \n",
              "        [[253, 254, 252],\n",
              "         [253, 254, 252],\n",
              "         [253, 254, 252],\n",
              "         ...,\n",
              "         [212, 227, 223],\n",
              "         [212, 227, 223],\n",
              "         [212, 227, 223]],\n",
              " \n",
              "        [[253, 254, 252],\n",
              "         [253, 254, 252],\n",
              "         [253, 254, 252],\n",
              "         ...,\n",
              "         [212, 227, 223],\n",
              "         [212, 227, 223],\n",
              "         [212, 227, 223]],\n",
              " \n",
              "        ...,\n",
              " \n",
              "        [[ 16,  60, 119],\n",
              "         [ 16,  60, 119],\n",
              "         [ 15,  57, 116],\n",
              "         ...,\n",
              "         [  9,  65, 130],\n",
              "         [ 21,  77, 142],\n",
              "         [ 27,  83, 148]],\n",
              " \n",
              "        [[ 19,  61, 120],\n",
              "         [ 18,  60, 119],\n",
              "         [ 15,  55, 114],\n",
              "         ...,\n",
              "         [  9,  64, 131],\n",
              "         [ 10,  65, 132],\n",
              "         [ 15,  70, 137]],\n",
              " \n",
              "        [[ 20,  62, 121],\n",
              "         [ 18,  60, 119],\n",
              "         [ 14,  54, 113],\n",
              "         ...,\n",
              "         [ 17,  72, 139],\n",
              "         [  8,  63, 130],\n",
              "         [ 11,  66, 133]]], dtype=uint8)\n",
              " orig_shape: (640, 640)\n",
              " path: '/content/datasets/chessPiecesDetection-6/test/images/1714395096695_jpg.rf.b2e0f4a0592d4e19b2cb626a9f0a8475.jpg'\n",
              " probs: None\n",
              " save_dir: 'runs/detect/train33'\n",
              " speed: {'preprocess': 1.7287731170654297, 'inference': 25.460243225097656, 'postprocess': 1.8310546875},\n",
              " ultralytics.engine.results.Results object with attributes:\n",
              " \n",
              " boxes: ultralytics.engine.results.Boxes object\n",
              " keypoints: None\n",
              " masks: None\n",
              " names: {0: 'bishop-black', 1: 'bishop-white', 2: 'king-black', 3: 'king-white', 4: 'knight-black', 5: 'knight-white', 6: 'pawn-black', 7: 'pawn-white', 8: 'queen-black', 9: 'queen-white', 10: 'rook-black', 11: 'rook-white'}\n",
              " obb: None\n",
              " orig_img: array([[[145, 145, 181],\n",
              "         [140, 140, 176],\n",
              "         [153, 153, 189],\n",
              "         ...,\n",
              "         [133, 123, 113],\n",
              "         [136, 126, 116],\n",
              "         [138, 128, 118]],\n",
              " \n",
              "        [[144, 144, 180],\n",
              "         [139, 139, 175],\n",
              "         [152, 152, 188],\n",
              "         ...,\n",
              "         [129, 119, 109],\n",
              "         [131, 121, 111],\n",
              "         [133, 123, 113]],\n",
              " \n",
              "        [[145, 143, 179],\n",
              "         [141, 139, 175],\n",
              "         [150, 150, 186],\n",
              "         ...,\n",
              "         [123, 113, 103],\n",
              "         [125, 115, 105],\n",
              "         [126, 116, 106]],\n",
              " \n",
              "        ...,\n",
              " \n",
              "        [[110,  83,  93],\n",
              "         [101,  76,  86],\n",
              "         [108,  82,  96],\n",
              "         ...,\n",
              "         [ 48,  76, 117],\n",
              "         [ 68,  93, 135],\n",
              "         [ 72,  97, 139]],\n",
              " \n",
              "        [[111,  84,  94],\n",
              "         [100,  75,  85],\n",
              "         [106,  80,  94],\n",
              "         ...,\n",
              "         [ 55,  80, 122],\n",
              "         [ 57,  82, 124],\n",
              "         [ 74,  99, 141]],\n",
              " \n",
              "        [[113,  86,  96],\n",
              "         [101,  76,  86],\n",
              "         [107,  81,  95],\n",
              "         ...,\n",
              "         [ 60,  85, 127],\n",
              "         [ 52,  77, 119],\n",
              "         [ 78, 103, 145]]], dtype=uint8)\n",
              " orig_shape: (640, 640)\n",
              " path: '/content/datasets/chessPiecesDetection-6/test/images/1714395096705_jpg.rf.b25180e3b0aa27d77b1dc05a27a70caa.jpg'\n",
              " probs: None\n",
              " save_dir: 'runs/detect/train33'\n",
              " speed: {'preprocess': 2.5091171264648438, 'inference': 23.235321044921875, 'postprocess': 2.5396347045898438},\n",
              " ultralytics.engine.results.Results object with attributes:\n",
              " \n",
              " boxes: ultralytics.engine.results.Boxes object\n",
              " keypoints: None\n",
              " masks: None\n",
              " names: {0: 'bishop-black', 1: 'bishop-white', 2: 'king-black', 3: 'king-white', 4: 'knight-black', 5: 'knight-white', 6: 'pawn-black', 7: 'pawn-white', 8: 'queen-black', 9: 'queen-white', 10: 'rook-black', 11: 'rook-white'}\n",
              " obb: None\n",
              " orig_img: array([[[ 0, 13, 59],\n",
              "         [ 4, 17, 63],\n",
              "         [ 9, 22, 68],\n",
              "         ...,\n",
              "         [42, 71, 68],\n",
              "         [41, 71, 66],\n",
              "         [40, 70, 65]],\n",
              " \n",
              "        [[ 0, 13, 59],\n",
              "         [ 2, 15, 61],\n",
              "         [ 6, 19, 65],\n",
              "         ...,\n",
              "         [40, 69, 66],\n",
              "         [40, 69, 66],\n",
              "         [39, 68, 65]],\n",
              " \n",
              "        [[ 0, 13, 59],\n",
              "         [ 1, 14, 60],\n",
              "         [ 3, 16, 62],\n",
              "         ...,\n",
              "         [36, 67, 66],\n",
              "         [36, 67, 66],\n",
              "         [36, 67, 66]],\n",
              " \n",
              "        ...,\n",
              " \n",
              "        [[14, 46, 95],\n",
              "         [ 8, 40, 89],\n",
              "         [ 6, 38, 87],\n",
              "         ...,\n",
              "         [15, 40, 74],\n",
              "         [18, 42, 78],\n",
              "         [20, 44, 80]],\n",
              " \n",
              "        [[13, 45, 94],\n",
              "         [ 9, 41, 90],\n",
              "         [ 6, 38, 87],\n",
              "         ...,\n",
              "         [27, 52, 86],\n",
              "         [26, 50, 86],\n",
              "         [19, 43, 79]],\n",
              " \n",
              "        [[15, 47, 96],\n",
              "         [12, 44, 93],\n",
              "         [ 9, 41, 90],\n",
              "         ...,\n",
              "         [35, 60, 94],\n",
              "         [31, 55, 91],\n",
              "         [16, 40, 76]]], dtype=uint8)\n",
              " orig_shape: (640, 640)\n",
              " path: '/content/datasets/chessPiecesDetection-6/test/images/1714395096758_jpg.rf.f3a7443d32c43e0b400fff3574eef3b6.jpg'\n",
              " probs: None\n",
              " save_dir: 'runs/detect/train33'\n",
              " speed: {'preprocess': 4.1866302490234375, 'inference': 22.38941192626953, 'postprocess': 1.8544197082519531},\n",
              " ultralytics.engine.results.Results object with attributes:\n",
              " \n",
              " boxes: ultralytics.engine.results.Boxes object\n",
              " keypoints: None\n",
              " masks: None\n",
              " names: {0: 'bishop-black', 1: 'bishop-white', 2: 'king-black', 3: 'king-white', 4: 'knight-black', 5: 'knight-white', 6: 'pawn-black', 7: 'pawn-white', 8: 'queen-black', 9: 'queen-white', 10: 'rook-black', 11: 'rook-white'}\n",
              " obb: None\n",
              " orig_img: array([[[242, 240, 239],\n",
              "         [242, 240, 239],\n",
              "         [243, 241, 240],\n",
              "         ...,\n",
              "         [ 54,  70, 112],\n",
              "         [ 56,  72, 114],\n",
              "         [ 60,  76, 118]],\n",
              " \n",
              "        [[240, 240, 240],\n",
              "         [240, 240, 240],\n",
              "         [240, 240, 240],\n",
              "         ...,\n",
              "         [ 54,  70, 112],\n",
              "         [ 56,  72, 114],\n",
              "         [ 60,  76, 118]],\n",
              " \n",
              "        [[237, 239, 240],\n",
              "         [237, 239, 240],\n",
              "         [237, 239, 240],\n",
              "         ...,\n",
              "         [ 53,  69, 111],\n",
              "         [ 54,  70, 112],\n",
              "         [ 59,  75, 117]],\n",
              " \n",
              "        ...,\n",
              " \n",
              "        [[ 12,  34, 136],\n",
              "         [ 10,  32, 134],\n",
              "         [ 15,  37, 139],\n",
              "         ...,\n",
              "         [ 15,  35, 136],\n",
              "         [ 11,  31, 132],\n",
              "         [  8,  28, 129]],\n",
              " \n",
              "        [[ 10,  32, 134],\n",
              "         [  9,  31, 133],\n",
              "         [ 15,  37, 139],\n",
              "         ...,\n",
              "         [ 15,  35, 136],\n",
              "         [ 10,  30, 131],\n",
              "         [  8,  28, 129]],\n",
              " \n",
              "        [[ 11,  33, 135],\n",
              "         [  9,  31, 133],\n",
              "         [ 16,  38, 140],\n",
              "         ...,\n",
              "         [ 14,  34, 135],\n",
              "         [ 10,  30, 131],\n",
              "         [  7,  27, 128]]], dtype=uint8)\n",
              " orig_shape: (640, 640)\n",
              " path: '/content/datasets/chessPiecesDetection-6/test/images/1714395097021_jpg.rf.7acc47771604b838fb10b478d27ad1a1.jpg'\n",
              " probs: None\n",
              " save_dir: 'runs/detect/train33'\n",
              " speed: {'preprocess': 1.711130142211914, 'inference': 22.412776947021484, 'postprocess': 1.8236637115478516}]"
            ]
          },
          "metadata": {},
          "execution_count": 42
        }
      ],
      "source": [
        "model.predict(source=test_imgs_path,\n",
        "                conf=CONF_THRESHOLD,\n",
        "                iou=IOU_THRESHOLD,\n",
        "                imgsz=IMGSZ,\n",
        "                device=DEVICE,\n",
        "                save=True)"
      ]
    },
    {
      "cell_type": "code",
      "execution_count": null,
      "metadata": {
        "id": "_LEH9A1Idhuc"
      },
      "outputs": [],
      "source": [
        "# Calculate predictions time\n",
        "def predictions_time(path):\n",
        "    try:\n",
        "        if not os.path.isdir(path):\n",
        "            print(\"Podana ścieżka nie istnieje lub nie prowadzi do folderu.\")\n",
        "            return\n",
        "        files = os.listdir(path)\n",
        "\n",
        "        for file in files:\n",
        "            t1 = time.time()\n",
        "\n",
        "            results = model.predict(path + '/' + file)\n",
        "\n",
        "            t2 = time.time()\n",
        "            dt = t2 - t1\n",
        "\n",
        "            print(f\"Detection time: {dt:.4f} seconds\")\n",
        "\n",
        "\n",
        "    except Exception as e:\n",
        "        print(\"Wystąpił błąd:\", e)"
      ]
    },
    {
      "cell_type": "code",
      "source": [
        "predictions_time('/content/datasets/chessPiecesDetection-6/test/images')"
      ],
      "metadata": {
        "collapsed": true,
        "colab": {
          "base_uri": "https://localhost:8080/"
        },
        "id": "4moWVhSqdNty",
        "outputId": "80a5da36-5861-47f5-c538-066df1293314"
      },
      "execution_count": null,
      "outputs": [
        {
          "output_type": "stream",
          "name": "stdout",
          "text": [
            "\n",
            "image 1/1 /content/datasets/chessPiecesDetection-6/test/images/1714384189268_jpg.rf.98657ecafdb118a5e600446967d05f62.jpg: 640x640 2 bishop-blacks, 1 bishop-white, 1 king-black, 1 king-white, 2 knight-blacks, 2 knight-whites, 1 pawn-black, 1 queen-black, 1 queen-white, 2 rook-blacks, 1 rook-white, 38.2ms\n",
            "Speed: 6.2ms preprocess, 38.2ms inference, 6.7ms postprocess per image at shape (1, 3, 640, 640)\n",
            "Detection time: 0.0858 seconds\n",
            "\n",
            "image 1/1 /content/datasets/chessPiecesDetection-6/test/images/1714384189053_jpg.rf.c62ea4d3eb886a39ec868ad23c98be65.jpg: 640x640 4 bishop-whites, 1 king-black, 1 king-white, 2 knight-whites, 8 pawn-blacks, 7 pawn-whites, 2 queen-blacks, 3 queen-whites, 2 rook-blacks, 1 rook-white, 42.7ms\n",
            "Speed: 1.8ms preprocess, 42.7ms inference, 2.0ms postprocess per image at shape (1, 3, 640, 640)\n",
            "Detection time: 0.0793 seconds\n",
            "\n",
            "image 1/1 /content/datasets/chessPiecesDetection-6/test/images/1714384189555_jpg.rf.ab20499b2fab4eb2cf3b2e37c7bbe5f5.jpg: 640x640 2 bishop-blacks, 3 bishop-whites, 1 king-white, 1 knight-black, 1 knight-white, 5 pawn-blacks, 2 pawn-whites, 1 queen-black, 3 queen-whites, 3 rook-blacks, 5 rook-whites, 37.2ms\n",
            "Speed: 1.8ms preprocess, 37.2ms inference, 2.2ms postprocess per image at shape (1, 3, 640, 640)\n",
            "Detection time: 0.0693 seconds\n",
            "\n",
            "image 1/1 /content/datasets/chessPiecesDetection-6/test/images/1714395096705_jpg.rf.b25180e3b0aa27d77b1dc05a27a70caa.jpg: 640x640 1 bishop-black, 1 bishop-white, 1 king-black, 1 king-white, 1 knight-black, 2 knight-whites, 2 queen-blacks, 1 queen-white, 37.2ms\n",
            "Speed: 2.6ms preprocess, 37.2ms inference, 1.8ms postprocess per image at shape (1, 3, 640, 640)\n",
            "Detection time: 0.0610 seconds\n",
            "\n",
            "image 1/1 /content/datasets/chessPiecesDetection-6/test/images/1714384189214_jpg.rf.a8f3a13abca056f0a2f271d963e599c9.jpg: 640x640 2 bishop-blacks, 1 bishop-white, 1 king-black, 1 king-white, 2 knight-blacks, 1 knight-white, 2 queen-blacks, 1 queen-white, 1 rook-black, 1 rook-white, 37.1ms\n",
            "Speed: 1.7ms preprocess, 37.1ms inference, 1.9ms postprocess per image at shape (1, 3, 640, 640)\n",
            "Detection time: 0.0566 seconds\n",
            "\n",
            "image 1/1 /content/datasets/chessPiecesDetection-6/test/images/1714384189080_jpg.rf.7550d439748821e919d0cbcaa7a5c754.jpg: 640x640 6 bishop-whites, 1 king-black, 2 king-whites, 1 knight-black, 2 knight-whites, 2 pawn-blacks, 2 pawn-whites, 3 queen-blacks, 1 queen-white, 3 rook-blacks, 4 rook-whites, 32.0ms\n",
            "Speed: 1.8ms preprocess, 32.0ms inference, 1.8ms postprocess per image at shape (1, 3, 640, 640)\n",
            "Detection time: 0.0512 seconds\n",
            "\n",
            "image 1/1 /content/datasets/chessPiecesDetection-6/test/images/1714384189405_jpg.rf.ef18c09f6fd4ae32163b18dc09db3528.jpg: 640x640 2 knight-blacks, 2 knight-whites, 1 rook-black, 24.6ms\n",
            "Speed: 1.6ms preprocess, 24.6ms inference, 1.7ms postprocess per image at shape (1, 3, 640, 640)\n",
            "Detection time: 0.0414 seconds\n",
            "\n",
            "image 1/1 /content/datasets/chessPiecesDetection-6/test/images/1714384189621_jpg.rf.508677d760eac1c7b267e2463e411312.jpg: 640x640 1 bishop-white, 3 knight-whites, 2 pawn-whites, 2 queen-whites, 1 rook-black, 1 rook-white, 24.5ms\n",
            "Speed: 1.8ms preprocess, 24.5ms inference, 3.9ms postprocess per image at shape (1, 3, 640, 640)\n",
            "Detection time: 0.0461 seconds\n",
            "\n",
            "image 1/1 /content/datasets/chessPiecesDetection-6/test/images/1714384189179_jpg.rf.dd476d08691f6df709412926ea8aa738.jpg: 640x640 2 bishop-blacks, 6 bishop-whites, 1 king-white, 1 knight-black, 4 knight-whites, 1 pawn-black, 2 pawn-whites, 1 queen-black, 2 queen-whites, 1 rook-black, 2 rook-whites, 24.0ms\n",
            "Speed: 3.7ms preprocess, 24.0ms inference, 1.7ms postprocess per image at shape (1, 3, 640, 640)\n",
            "Detection time: 0.0460 seconds\n",
            "\n",
            "image 1/1 /content/datasets/chessPiecesDetection-6/test/images/1714395096695_jpg.rf.b2e0f4a0592d4e19b2cb626a9f0a8475.jpg: 640x640 1 bishop-black, 2 bishop-whites, 2 king-blacks, 4 king-whites, 2 knight-whites, 1 pawn-black, 2 queen-blacks, 24.0ms\n",
            "Speed: 4.3ms preprocess, 24.0ms inference, 1.8ms postprocess per image at shape (1, 3, 640, 640)\n",
            "Detection time: 0.0508 seconds\n",
            "\n",
            "image 1/1 /content/datasets/chessPiecesDetection-6/test/images/1714395097021_jpg.rf.7acc47771604b838fb10b478d27ad1a1.jpg: 640x640 1 bishop-black, 1 king-black, 1 king-white, 2 knight-blacks, 2 knight-whites, 1 queen-black, 1 queen-white, 18.9ms\n",
            "Speed: 1.6ms preprocess, 18.9ms inference, 1.8ms postprocess per image at shape (1, 3, 640, 640)\n",
            "Detection time: 0.0389 seconds\n",
            "\n",
            "image 1/1 /content/datasets/chessPiecesDetection-6/test/images/1714384189611_jpg.rf.6ca1ce13406304931332709e99c9e19a.jpg: 640x640 1 bishop-black, 1 king-white, 4 pawn-blacks, 5 pawn-whites, 1 rook-black, 3 rook-whites, 18.9ms\n",
            "Speed: 1.7ms preprocess, 18.9ms inference, 1.8ms postprocess per image at shape (1, 3, 640, 640)\n",
            "Detection time: 0.0445 seconds\n",
            "\n",
            "image 1/1 /content/datasets/chessPiecesDetection-6/test/images/1714384189433_jpg.rf.af5ab2edbcbf9dc4eff1cb14c8892af6.jpg: 640x640 3 bishop-blacks, 4 bishop-whites, 1 king-black, 2 knight-blacks, 2 knight-whites, 6 pawn-blacks, 7 pawn-whites, 3 queen-blacks, 1 queen-white, 2 rook-blacks, 18.8ms\n",
            "Speed: 1.8ms preprocess, 18.8ms inference, 1.9ms postprocess per image at shape (1, 3, 640, 640)\n",
            "Detection time: 0.0437 seconds\n",
            "\n",
            "image 1/1 /content/datasets/chessPiecesDetection-6/test/images/1714395096758_jpg.rf.f3a7443d32c43e0b400fff3574eef3b6.jpg: 640x640 3 bishop-blacks, 1 king-black, 1 king-white, 2 knight-whites, 1 pawn-black, 2 pawn-whites, 1 queen-black, 19.3ms\n",
            "Speed: 1.8ms preprocess, 19.3ms inference, 2.0ms postprocess per image at shape (1, 3, 640, 640)\n",
            "Detection time: 0.0410 seconds\n",
            "\n",
            "image 1/1 /content/datasets/chessPiecesDetection-6/test/images/1714384189599_jpg.rf.c017ea51b3207e0142047dac4a162fc3.jpg: 640x640 1 bishop-black, 3 bishop-whites, 1 king-white, 3 pawn-blacks, 2 pawn-whites, 1 queen-white, 1 rook-black, 1 rook-white, 19.2ms\n",
            "Speed: 1.9ms preprocess, 19.2ms inference, 1.9ms postprocess per image at shape (1, 3, 640, 640)\n",
            "Detection time: 0.0415 seconds\n"
          ]
        }
      ]
    }
  ],
  "metadata": {
    "accelerator": "GPU",
    "colab": {
      "gpuType": "T4",
      "provenance": [],
      "include_colab_link": true
    },
    "kernelspec": {
      "display_name": "Python 3",
      "name": "python3"
    },
    "language_info": {
      "name": "python"
    }
  },
  "nbformat": 4,
  "nbformat_minor": 0
}