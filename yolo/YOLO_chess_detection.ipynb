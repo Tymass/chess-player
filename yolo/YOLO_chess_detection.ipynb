{
  "cells": [
    {
      "cell_type": "markdown",
      "metadata": {
        "id": "view-in-github",
        "colab_type": "text"
      },
      "source": [
        "<a href=\"https://colab.research.google.com/github/Tymass/chess-player/blob/yolo-training/YOLO_chess_detection.ipynb\" target=\"_parent\"><img src=\"https://colab.research.google.com/assets/colab-badge.svg\" alt=\"Open In Colab\"/></a>"
      ]
    },
    {
      "cell_type": "markdown",
      "metadata": {
        "id": "NaqS_bYFB8_K"
      },
      "source": [
        "## Installations"
      ]
    },
    {
      "cell_type": "code",
      "execution_count": null,
      "metadata": {
        "collapsed": true,
        "id": "SyTxHcC1Bfen"
      },
      "outputs": [],
      "source": [
        "!pip install torch torchvision\n",
        "!pip install ultralytics\n",
        "!pip install -U --no-cache-dir gdown --pre\n",
        "!pip install roboflow\n",
        "!pip install pyyaml"
      ]
    },
    {
      "cell_type": "markdown",
      "metadata": {
        "id": "VOuE_y02CRmj"
      },
      "source": [
        "## Imports"
      ]
    },
    {
      "cell_type": "code",
      "execution_count": null,
      "metadata": {
        "id": "Xu3qe-6LCTE4"
      },
      "outputs": [],
      "source": [
        "from ultralytics import YOLO\n",
        "import gdown\n",
        "import os\n",
        "import torch\n",
        "import glob\n",
        "from roboflow import Roboflow\n",
        "import shutil\n",
        "import yaml\n",
        "import time\n",
        "from google.colab import userdata\n",
        "import locale\n",
        "locale.getpreferredencoding = lambda: \"UTF-8\""
      ]
    },
    {
      "cell_type": "markdown",
      "metadata": {
        "id": "sCbXMI8hMnhz"
      },
      "source": [
        "## Functions definition"
      ]
    },
    {
      "cell_type": "markdown",
      "metadata": {
        "id": "_8k5Xd4iCFF-"
      },
      "source": [
        "## Constants"
      ]
    },
    {
      "cell_type": "code",
      "execution_count": null,
      "metadata": {
        "id": "gMOv8nc_KKCt"
      },
      "outputs": [],
      "source": [
        "# Configuration parameters for machine learning model training.\n",
        "\n",
        "EPOCHS = 600\n",
        "# Specifies the total number of passes through the entire training dataset.\n",
        "# A high number like 1000 indicates intensive training, aiming for deep model refinement, but requires monitoring to avoid overfitting.\n",
        "\n",
        "PATIENCE = 20\n",
        "# Determines the number of epochs with no improvement on a chosen metric before training is stopped early.\n",
        "# This is a strategy to prevent overfitting by halting the training process if the model ceases to learn further.\n",
        "\n",
        "BATCH_TRAINING = -1\n",
        "# Specify batch size during YOLO training. -1 here means automatic way\n",
        "\n",
        "LR0 = 0.0001\n",
        "# The initial learning rate sets the step size at the start of training for adjusting the model weights.\n",
        "# An appropriate value (neither too large nor too small) is crucial for effective training dynamics.\n",
        "\n",
        "LRF = 0.2\n",
        "# Final learning rate factor, used to adjust the learning rate over time.\n",
        "# This parameter is part of a learning rate schedule that gradually reduces the learning rate, aiding in model convergence.\n",
        "\n",
        "IMGSZ = 640\n",
        "# The uniform size (height and width) to which all input images are resized before being fed into the model.\n",
        "# Ensuring a consistent image size is essential for models to process batches of data efficiently.\n",
        "\n",
        "CONF_THRESHOLD = 0.5\n",
        "# Confidence threshold for predictions. Only predictions with a confidence score higher than this threshold will be considered.\n",
        "# This helps in reducing false positives by filtering out predictions with low confidence.\n",
        "\n",
        "IOU_THRESHOLD = 0.6\n",
        "# Intersection Over Union (IOU) threshold for Non-Maximum Suppression (NMS).\n",
        "# Determines how much overlap between bounding boxes is allowed. A higher threshold can reduce duplicate detections for the same object.\n",
        "\n",
        "# Setting up device\n",
        "DEVICE = torch.device('cuda:0' if torch.cuda.is_available() else 'cpu')\n",
        "#os.environ[\"CUDA_VISIBLE_DEVICES\"] = \"0\"\n",
        "# Set the current working directory as the base directory.\n",
        "#BASE_DIR = os.getcwd()"
      ]
    },
    {
      "cell_type": "markdown",
      "metadata": {
        "id": "-jrG_sZVKZKE"
      },
      "source": [
        "## Datasets downloads"
      ]
    },
    {
      "cell_type": "code",
      "source": [
        "# In case we need to remove dataset folder\n",
        "!rm -rf /content/datasets"
      ],
      "metadata": {
        "id": "3ucrxXOhGSxF"
      },
      "execution_count": null,
      "outputs": []
    },
    {
      "cell_type": "markdown",
      "source": [
        "We use [1](https://universe.roboflow.com/joseph-nelson/chess-pieces-new/dataset/24) dataset as baseline then fine tune model on our dataset [2](https://app.roboflow.com/tymek-byrwa-1p3fh/chesspiecesdetection-y9ljv/6).\n",
        "\n",
        "Dont forget to get your own Roboflow API key.\n"
      ],
      "metadata": {
        "id": "YiGFQLtqWqhM"
      }
    },
    {
      "cell_type": "code",
      "execution_count": null,
      "metadata": {
        "id": "CXPvU-RMCEf3",
        "collapsed": true
      },
      "outputs": [],
      "source": [
        "# Define the mode for dataset selection. Possible values: 'yolov9' or 'yolov8'.\n",
        "mode = 'yolov8'\n",
        "classes_nb = 12\n",
        "API_key = userdata.get('API_key')\n",
        "\n",
        "# We need to specify what dataset we use\n",
        "fine_tunning = True\n",
        "\n",
        "if fine_tunning:\n",
        "  project_version = 6\n",
        "\n",
        "  if mode == 'yolov9':\n",
        "    rf = Roboflow(api_key=API_key)\n",
        "    project = rf.workspace(\"tymek-byrwa-1p3fh\").project(\"chesspiecesdetection-y9ljv\")\n",
        "    version = project.version(project_version)\n",
        "    dataset = version.download(\"yolov9\")\n",
        "  elif mode == 'yolov8':\n",
        "    rf = Roboflow(api_key=API_key)\n",
        "    project = rf.workspace(\"tymek-byrwa-1p3fh\").project(\"chesspiecesdetection-y9ljv\")\n",
        "    version = project.version(project_version)\n",
        "    dataset = version.download(\"yolov8\")\n",
        "else:\n",
        "  project_version = 24\n",
        "\n",
        "  if mode == 'yolov8':\n",
        "    rf = Roboflow(api_key=API_key)\n",
        "    project = rf.workspace(\"joseph-nelson\").project(\"chess-pieces-new\")\n",
        "    version = project.version(project_version)\n",
        "    dataset = version.download(\"yolov8\")\n",
        "  elif mode == 'yolov8':\n",
        "    rf = Roboflow(api_key=API_key)\n",
        "    project = rf.workspace(\"joseph-nelson\").project(\"chess-pieces-new\")\n",
        "    version = project.version(project_version)\n",
        "    dataset = version.download(\"yolov9\")"
      ]
    },
    {
      "cell_type": "code",
      "execution_count": null,
      "metadata": {
        "id": "oGw4j3YBK_b7"
      },
      "outputs": [],
      "source": [
        "def update_yaml(file_path):\n",
        "    with open(file_path, 'r') as file:\n",
        "        data = yaml.safe_load(file)\n",
        "\n",
        "    # Modify the specific fields\n",
        "    data['train'] = '../train/images'\n",
        "    data['val'] = '../valid/images'\n",
        "\n",
        "    with open(file_path, 'w') as file:\n",
        "        yaml.safe_dump(data, file)"
      ]
    },
    {
      "cell_type": "code",
      "execution_count": null,
      "metadata": {
        "id": "MsMgtDIB2cLa",
        "collapsed": true
      },
      "outputs": [],
      "source": [
        "# We move downloaded dataset to 'dataset' floder and update yaml file\n",
        "\n",
        "os.mkdir('/content/datasets')\n",
        "source_dataset_path = os.getcwd() + '/' + dataset.name.replace(' ', '-') + '-' + project_version\n",
        "source_dataset_path_copy = source_dataset_path.split('/')[1:]\n",
        "\n",
        "source_dataset_path_copy.insert(-1, 'datasets')\n",
        "\n",
        "\n",
        "dest_dataset_path = '/' + '/'.join(source_dataset_path_copy)\n",
        "config_path = dest_dataset_path + '/data.yaml'\n",
        "test_imgs_path = dest_dataset_path + '/test/images'\n",
        "\n",
        "shutil.move(source_dataset_path, dest_dataset_path)\n",
        "\n",
        "update_yaml(config_path)"
      ]
    },
    {
      "cell_type": "markdown",
      "metadata": {
        "id": "Nn6CIWMNKEBf"
      },
      "source": [
        "## Initial train"
      ]
    },
    {
      "cell_type": "code",
      "execution_count": null,
      "metadata": {
        "id": "66XrhBLEIURw",
        "collapsed": true
      },
      "outputs": [],
      "source": [
        "# Check the selected mode and initialize the corresponding YOLO model.\n",
        "if mode == 'yolov9':\n",
        "    model = YOLO('yolov9e.pt')  # Initialize YOLOv9 with the specified weights file.\n",
        "elif mode == 'yolov8':\n",
        "    model = YOLO('yolov8m.pt')  # Initialize YOLOv8 with the specified weights file.\n",
        "else:\n",
        "    print(f\"Set up config var mode correctly.\")  # Prompt to set the mode variable correctly if it's not 'yolov9' or 'yolov8'.\n",
        "\n",
        "# Train the model with specified parameters.\n",
        "model.train(data=config_path,   # Path to the YAML file with dataset paths.\n",
        "            save=True,             # Enable saving the final model weights.\n",
        "            epochs=EPOCHS,         # Number of epochs to train the model.\n",
        "            device=DEVICE,          # Device setup\n",
        "            patience=PATIENCE,     # Early stopping patience.\n",
        "            batch=BATCH_TRAINING,  # Batch size for training.\n",
        "            imgsz=IMGSZ,           # Input image size.\n",
        "            lr0=LR0,               # Initial learning rate.\n",
        "            lrf=LRF)               # Final learning rate.\n",
        "\n",
        "# Evaluate the model and compute the validation metrics.\n",
        "metrics = model.val()\n",
        "\n",
        "# Save the computed metrics to a text file.\n",
        "with open(f'{mode}_base_model_metrics.txt', 'w') as f:\n",
        "    f.write(f\"mAP 50-95: {metrics.box.map}\\n\")   # Write mAP at IoU=50:95.\n",
        "    f.write(f\"mAP 50: {metrics.box.map50}\\n\")    # Write mAP at IoU=50.\n",
        "    f.write(f\"mAP 75: {metrics.box.map75}\\n\")    # Write mAP at IoU=75.\n",
        "    f.write(f\"Category-wise mAP 50-95: {metrics.box.maps}\\n\")  # Write list of mAP50-95 for each category.\n"
      ]
    },
    {
      "cell_type": "markdown",
      "metadata": {
        "id": "ARu-h3O7Sb0Q"
      },
      "source": [
        "## Inference of initial trained model"
      ]
    },
    {
      "cell_type": "code",
      "execution_count": null,
      "metadata": {
        "collapsed": true,
        "id": "k0-XI_FHSdxA"
      },
      "outputs": [],
      "source": [
        "model.predict(source=test_imgs_path,\n",
        "                conf=CONF_THRESHOLD,\n",
        "                iou=IOU_THRESHOLD,\n",
        "                imgsz=IMGSZ,\n",
        "                device=DEVICE,\n",
        "                save=True)"
      ]
    },
    {
      "cell_type": "code",
      "execution_count": null,
      "metadata": {
        "id": "_LEH9A1Idhuc"
      },
      "outputs": [],
      "source": [
        "# Calculate predictions time\n",
        "def predictions_time(path):\n",
        "    try:\n",
        "        if not os.path.isdir(path):\n",
        "            print(\"Podana ścieżka nie istnieje lub nie prowadzi do folderu.\")\n",
        "            return\n",
        "        files = os.listdir(path)\n",
        "\n",
        "        for file in files:\n",
        "            t1 = time.time()\n",
        "\n",
        "            results = model.predict(path + '/' + file)\n",
        "\n",
        "            t2 = time.time()\n",
        "            dt = t2 - t1\n",
        "\n",
        "            print(f\"Detection time: {dt:.4f} seconds\")\n",
        "\n",
        "\n",
        "    except Exception as e:\n",
        "        print(\"Wystąpił błąd:\", e)"
      ]
    },
    {
      "cell_type": "code",
      "source": [
        "predictions_time('/content/datasets/chessPiecesDetection-6/test/images')"
      ],
      "metadata": {
        "collapsed": true,
        "id": "4moWVhSqdNty"
      },
      "execution_count": null,
      "outputs": []
    }
  ],
  "metadata": {
    "accelerator": "GPU",
    "colab": {
      "gpuType": "T4",
      "provenance": [],
      "include_colab_link": true
    },
    "kernelspec": {
      "display_name": "Python 3",
      "name": "python3"
    },
    "language_info": {
      "name": "python"
    }
  },
  "nbformat": 4,
  "nbformat_minor": 0
}